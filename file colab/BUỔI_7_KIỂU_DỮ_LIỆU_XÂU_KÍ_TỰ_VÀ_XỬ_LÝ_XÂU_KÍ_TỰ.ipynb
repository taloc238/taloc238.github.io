{
  "nbformat": 4,
  "nbformat_minor": 0,
  "metadata": {
    "colab": {
      "provenance": []
    },
    "kernelspec": {
      "name": "python3",
      "display_name": "Python 3"
    },
    "language_info": {
      "name": "python"
    }
  },
  "cells": [
    {
      "cell_type": "markdown",
      "source": [
        "BÀI 5.4 TRANG 29 VÀ BÀI TẬP TRẠM KHẢO SÁT KHÔNG GIAN"
      ],
      "metadata": {
        "id": "dNbZ1w0yUA21"
      }
    },
    {
      "cell_type": "code",
      "source": [
        "# Trạm khảo sát không gian\n",
        "T = int(input(\"Nhập vào tháng trạm đã ở không gian: \"))\n",
        "if T<0: print(\"Bạn nhập vào giá trị là tháng phải là dương\")\n",
        "elif T %4 == 1: print(0,',',T+1)\n",
        "elif T%4 == 2: print(-T-1,',',0)\n",
        "elif T%4 == 3: print(0,',',-T-1)\n",
        "elif T%4 == 0: print(T+1,',',0)"
      ],
      "metadata": {
        "colab": {
          "base_uri": "https://localhost:8080/"
        },
        "id": "oJjVHlvKUB1w",
        "outputId": "58fb8307-c25f-4c8d-8641-2d7d3e4eb496"
      },
      "execution_count": 37,
      "outputs": [
        {
          "output_type": "stream",
          "name": "stdout",
          "text": [
            "Nhập vào tháng trạm đã ở không gian: 8\n",
            "9 , 0\n"
          ]
        }
      ]
    },
    {
      "cell_type": "markdown",
      "source": [
        "Bài tập 6.4: Tính tổng và đếm số: Cho một số tự nhiên n (n ≤ 101000). Tính tổng các chữ số của n và tính số lượng số chữ số của n (không dùng hàm len).\n",
        "\n"
      ],
      "metadata": {
        "id": "jPJo1oCYT9IO"
      }
    },
    {
      "cell_type": "code",
      "source": [
        "n = int(input(\"Nhập số n: \"))\n",
        "tong = dem = 0\n",
        "luu = n\n",
        "while n>0:\n",
        "  tong += n%10\n",
        "  n//=10\n",
        "  dem += 1\n",
        "print(\"Số\",luu,\"có tổng là:\",tong,\"và có:\",dem,\"chữ số.\")"
      ],
      "metadata": {
        "colab": {
          "base_uri": "https://localhost:8080/"
        },
        "id": "4PoOMPNbUEvf",
        "outputId": "11a4dc44-2a0c-4b5d-fa6b-a984d579eea2"
      },
      "execution_count": 36,
      "outputs": [
        {
          "output_type": "stream",
          "name": "stdout",
          "text": [
            "Nhập số n: 123456\n",
            "Số 123456 có tổng là: 21 và có: 6 chữ số.\n"
          ]
        }
      ]
    },
    {
      "cell_type": "markdown",
      "source": [
        "**KIỂU DỮ LIỆU XÂU KÍ TỰ VÀ XỬ LÝ XÂU KÍ TỰ**"
      ],
      "metadata": {
        "id": "chv2seFCGsvs"
      }
    },
    {
      "cell_type": "code",
      "execution_count": 8,
      "metadata": {
        "colab": {
          "base_uri": "https://localhost:8080/"
        },
        "id": "fgW9dHFyGntV",
        "outputId": "33ad5c5a-6d03-4a3b-c775-87efef4f0553"
      },
      "outputs": [
        {
          "output_type": "stream",
          "name": "stdout",
          "text": [
            "Đây là một xâu kí tự\n",
            "Đây cũng là một chuỗi\n",
            "Đây là một xâu kí tự trong cặp dấu nháy ba\n",
            "Trước khi ép kiểu số nguyên\n",
            "<class 'str'>\n",
            "<class 'int'>\n",
            "Sau khi ép kiểu \t số nguyên\n"
          ]
        }
      ],
      "source": [
        "print(\"Đây là một xâu kí tự\")\n",
        "print('Đây cũng là một chuỗi')\n",
        "print('''Đây là một xâu kí tự trong cặp dấu nháy ba''')\n",
        "kitu = \"1234\"\n",
        "print(\"Trước khi ép kiểu số nguyên\")\n",
        "print(type(kitu))\n",
        "print(type(int(kitu)))\n",
        "print(\"Sau khi ép kiểu \\t số nguyên\")"
      ]
    },
    {
      "cell_type": "markdown",
      "source": [
        "***3. Các toán tử với xâu.***"
      ],
      "metadata": {
        "id": "QZ27_ksFJKuQ"
      }
    },
    {
      "cell_type": "markdown",
      "source": [
        "*3.1. Toán tử +*: Thực hiện việc nối các xâu lại với nhau, toán tử này thường được sử dụng."
      ],
      "metadata": {
        "id": "3bbj-0vnJNmu"
      }
    },
    {
      "cell_type": "code",
      "source": [
        "a = \"Lập trình\"\n",
        "b = \" Python\"\n",
        "print(a+b)"
      ],
      "metadata": {
        "colab": {
          "base_uri": "https://localhost:8080/"
        },
        "id": "wjXe9rJHJVN0",
        "outputId": "e78648b5-4d6c-4028-c5e1-c68f57e85a61"
      },
      "execution_count": 11,
      "outputs": [
        {
          "output_type": "stream",
          "name": "stdout",
          "text": [
            "Lập trình Python\n"
          ]
        }
      ]
    },
    {
      "cell_type": "code",
      "source": [
        "a = \"Python\"\n",
        "b = \" 3\"\n",
        "print(a+b)"
      ],
      "metadata": {
        "colab": {
          "base_uri": "https://localhost:8080/"
        },
        "id": "f92rWB61Jqgd",
        "outputId": "4b64a1ae-95dc-47b6-cc9e-b92b04f61847"
      },
      "execution_count": 12,
      "outputs": [
        {
          "output_type": "stream",
          "name": "stdout",
          "text": [
            "Python 3\n"
          ]
        }
      ]
    },
    {
      "cell_type": "code",
      "source": [
        "a = \"Python\"\n",
        "b = 3\n",
        "print(a + str(\" \") + str(b))"
      ],
      "metadata": {
        "colab": {
          "base_uri": "https://localhost:8080/"
        },
        "id": "Dx9fXRqoJyaO",
        "outputId": "e093b248-5eb7-45d4-8e63-1d9424240c72"
      },
      "execution_count": 16,
      "outputs": [
        {
          "output_type": "stream",
          "name": "stdout",
          "text": [
            "Python 3\n"
          ]
        }
      ]
    },
    {
      "cell_type": "markdown",
      "source": [
        "*3.2. Toán tử * : Python hỗ trợ toán tử nhân rất đặc biệt, nó giúp chúng ta tạo ra một xâu lặp\n",
        "đi lặp lại với số lần bất kỳ."
      ],
      "metadata": {
        "id": "1kh6WcXiKXKY"
      }
    },
    {
      "cell_type": "code",
      "source": [
        "a = \"Python\"\n",
        "b = 3\n",
        "print(a * b)"
      ],
      "metadata": {
        "colab": {
          "base_uri": "https://localhost:8080/"
        },
        "id": "bVxD8vKbKjAU",
        "outputId": "853eaa00-cb0e-4149-be48-f94092316a05"
      },
      "execution_count": 17,
      "outputs": [
        {
          "output_type": "stream",
          "name": "stdout",
          "text": [
            "PythonPythonPython\n"
          ]
        }
      ]
    },
    {
      "cell_type": "markdown",
      "source": [
        "3.3. Toán tử *in*: Toán tử này kiểm tra xem xâu con có nằm trong xâu mẹ hay không, kết quả\n",
        "trả về bằng True nếu có hoặc False nếu không."
      ],
      "metadata": {
        "id": "SRTls3y1K6Ri"
      }
    },
    {
      "cell_type": "code",
      "source": [
        "a = \"Python\"\n",
        "if \"i\" in a: print(\"Yes\")\n",
        "else: print(\"No\")"
      ],
      "metadata": {
        "colab": {
          "base_uri": "https://localhost:8080/"
        },
        "id": "R6pmt8pmLBBJ",
        "outputId": "e052012a-b1fa-49c3-9258-c2344aac731f"
      },
      "execution_count": 20,
      "outputs": [
        {
          "output_type": "stream",
          "name": "stdout",
          "text": [
            "No\n"
          ]
        }
      ]
    },
    {
      "cell_type": "markdown",
      "source": [
        "***4. Các thao tác trên xâu.***"
      ],
      "metadata": {
        "id": "mF40lhQJLuAD"
      }
    },
    {
      "cell_type": "markdown",
      "source": [
        "*4.1. Truy xuất đến một phần tử trong xâu.*\n",
        "\n",
        "Cú pháp: <tên biến xâu (chuỗi)>[chỉ số (index)]"
      ],
      "metadata": {
        "id": "WerxEiFiNYYW"
      }
    },
    {
      "cell_type": "code",
      "source": [
        "c = \"PYTHON\"\n",
        "print(c[4])\n",
        "print(c[3])\n",
        "print(c[2])\n",
        "print(c[1])\n",
        "print(c[-1])\n",
        "print(c[-6])\n",
        "print(c[-4])"
      ],
      "metadata": {
        "colab": {
          "base_uri": "https://localhost:8080/"
        },
        "id": "YDp7b-d1NqYS",
        "outputId": "15ceb903-d806-4b68-e99c-09a22a934cdd"
      },
      "execution_count": 25,
      "outputs": [
        {
          "output_type": "stream",
          "name": "stdout",
          "text": [
            "O\n",
            "H\n",
            "T\n",
            "Y\n",
            "N\n",
            "P\n",
            "T\n"
          ]
        }
      ]
    },
    {
      "cell_type": "markdown",
      "source": [
        "*4.2. Truy xuất đến nhiều phần tử trong xâu.*\n",
        "\n",
        "Cú pháp: <tên biến xâu (chuỗi)>[chỉ số (index) bắt đầu : chỉ số (index) kết thúc]\n",
        "\n",
        "<tên biến xâu>[a:b]"
      ],
      "metadata": {
        "id": "k7WdI46DOWTc"
      }
    },
    {
      "cell_type": "code",
      "source": [
        "d = \"PYTHON RẤT TUYỆT\"\n",
        "print(d[7:10])\n",
        "print(d[-5:]) # lấy từ giá trị chỉ định đến cuối xâu\n",
        "print(d[:6])  # lấy giá trị từ đầu xâu đến giá trị chỉ định"
      ],
      "metadata": {
        "colab": {
          "base_uri": "https://localhost:8080/"
        },
        "id": "qwALC6vhOkoA",
        "outputId": "6710d9ee-7d84-4ae2-d939-d87c0f7b266c"
      },
      "execution_count": 33,
      "outputs": [
        {
          "output_type": "stream",
          "name": "stdout",
          "text": [
            "RẤT\n",
            "TUYỆT\n",
            "PYTHON\n"
          ]
        }
      ]
    },
    {
      "cell_type": "markdown",
      "source": [
        "<tên biến xâu>[a:b:c]"
      ],
      "metadata": {
        "id": "LZQxctMLQZ88"
      }
    },
    {
      "cell_type": "code",
      "source": [
        "e = \"PYTHON RẤT TUYỆT\"\n",
        "print(e[1:8:2])"
      ],
      "metadata": {
        "colab": {
          "base_uri": "https://localhost:8080/"
        },
        "id": "XY0nf4pQQgoK",
        "outputId": "87864aa3-860d-41fb-8839-e98edf8bef99"
      },
      "execution_count": 35,
      "outputs": [
        {
          "output_type": "stream",
          "name": "stdout",
          "text": [
            "YHNR\n"
          ]
        }
      ]
    }
  ]
}