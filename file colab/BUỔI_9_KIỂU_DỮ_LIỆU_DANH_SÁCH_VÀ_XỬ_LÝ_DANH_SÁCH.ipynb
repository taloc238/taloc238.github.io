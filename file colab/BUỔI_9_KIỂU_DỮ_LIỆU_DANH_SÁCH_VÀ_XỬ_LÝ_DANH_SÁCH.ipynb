{
  "nbformat": 4,
  "nbformat_minor": 0,
  "metadata": {
    "colab": {
      "provenance": []
    },
    "kernelspec": {
      "name": "python3",
      "display_name": "Python 3"
    },
    "language_info": {
      "name": "python"
    }
  },
  "cells": [
    {
      "cell_type": "markdown",
      "source": [
        "**KIỂU DỮ LIỆU DANH SÁCH VÀ XỬ LÝ DANH SÁCH**"
      ],
      "metadata": {
        "id": "IAhGa3iiFvNV"
      }
    },
    {
      "cell_type": "markdown",
      "source": [
        "Bài tập 8.4. Xâu quy luật: Tạo một xâu hỗn hợp theo quy tắc sau: Cho hai xâu xst và tst. Viết chương trình tạo một xâu mới xtst được tạo từ ký tự đầu tiên của xst, sau đó là ký tự cuối cùng của tst, Tiếp theo, ký tự thứ hai của xst và ký tự cuối cùng thứ hai của tst, …v.v. Ký tự còn sót lại nào thì đưa về ở cuối kết quả của xâu xtst."
      ],
      "metadata": {
        "id": "FFHjlvi7FyR-"
      }
    },
    {
      "cell_type": "code",
      "execution_count": null,
      "metadata": {
        "id": "DGTyL57cFqQT"
      },
      "outputs": [],
      "source": [
        "xau_1 = \"ABCD\"\n",
        "xau_2 = \"xyzwg\"\n",
        "# xau = \"AwBzCyDx\"\n",
        "dodai_xau_1 = len(xau_1)\n",
        "dodai_xau_2 = len(xau_2)\n",
        "xau_2 = xau_2[::-1]\n",
        "ketqua = \"\"\n",
        "#if dodai_xau_1 > dodai_xau_2: dodai2xau = dodai_xau_1\n",
        "#else: dodai2xau = dodai_xau_2\n",
        "# List comperhension\n",
        "dodai2xau = dodai_xau_1 if dodai_xau_1 > dodai_xau_2 else dodai_xau_2\n",
        "#print(xau_2)\n",
        "for i in range(dodai2xau):\n",
        "    if i < dodai_xau_1: ketqua = ketqua + xau_1[i]\n",
        "    if i < dodai_xau_2: ketqua = ketqua + xau_2[i]\n",
        "print(ketqua)"
      ]
    },
    {
      "cell_type": "markdown",
      "source": [
        "Kiểu danh sách - LIST"
      ],
      "metadata": {
        "id": "hGhmYtJyGJOz"
      }
    },
    {
      "cell_type": "code",
      "source": [
        "hs_1 = \"Nguyễn Văn A\"\n",
        "hs_2 = \"Nguyễn Văn B\"\n",
        "hs_3 = \"Nguyễn Văn C\"\n",
        "hs_4 = \"Nguyễn Văn D\"\n",
        "# List\n",
        "hs = [\"Nguyễn Văn A\",\"Nguyễn Văn B\",\"Nguyễn Văn C\",\"Nguyễn Văn D\"]\n",
        "print(hs)\n",
        "print(type(hs))"
      ],
      "metadata": {
        "colab": {
          "base_uri": "https://localhost:8080/"
        },
        "id": "T3pUVzQxHSFw",
        "outputId": "22402665-9ceb-4fa3-bcde-0c271a872715"
      },
      "execution_count": 2,
      "outputs": [
        {
          "output_type": "stream",
          "name": "stdout",
          "text": [
            "['Nguyễn Văn A', 'Nguyễn Văn B', 'Nguyễn Văn C', 'Nguyễn Văn D']\n",
            "<class 'list'>\n"
          ]
        }
      ]
    },
    {
      "cell_type": "markdown",
      "source": [
        "Cú pháp: <tên biến danh sách> = [str,int,float,bool]"
      ],
      "metadata": {
        "id": "q9XfUWCCIk-9"
      }
    },
    {
      "cell_type": "markdown",
      "source": [
        "***2. Khởi tạo một danh sách.***\n",
        "Khởi tạo một danh sách trong Python chúng ta có thể sử dụng một trong các cách sau:\n",
        "\n",
        "2.1. Tạo danh sách sử dụng lệnh gán trực tiếp:"
      ],
      "metadata": {
        "id": "Z6qW0uZ6JqFy"
      }
    },
    {
      "cell_type": "markdown",
      "source": [
        "Cú pháp: <tên biến danh sách> = [giá trị 1, giá trị 2,...giá trị n,...]"
      ],
      "metadata": {
        "id": "qEf-UP16JvUy"
      }
    },
    {
      "cell_type": "markdown",
      "source": [
        "Không có phần tử nào trong ds thì danh sách là rỗng: ví dụ: ds = [ ]"
      ],
      "metadata": {
        "id": "J1JtG12eKACx"
      }
    },
    {
      "cell_type": "markdown",
      "source": [
        "*2.2.1. Khởi tạo danh sách sử dụng vòng lặp .*\n",
        "\n",
        "Phương thức comprehensions"
      ],
      "metadata": {
        "id": "AKry788WKZRq"
      }
    },
    {
      "cell_type": "markdown",
      "source": [
        "Cú pháp: <biến danh sách> = [int(i) for i in input().split()]"
      ],
      "metadata": {
        "id": "8mjahKRMKkPw"
      }
    },
    {
      "cell_type": "code",
      "source": [
        "ds = [int(i) for i in input().split()]\n",
        "print(ds)\n",
        "print(type(ds[2]))"
      ],
      "metadata": {
        "colab": {
          "base_uri": "https://localhost:8080/"
        },
        "id": "2OFS5D49Kzg3",
        "outputId": "8042ed62-3f40-45fc-a0e6-8acf59764e8f"
      },
      "execution_count": 10,
      "outputs": [
        {
          "output_type": "stream",
          "name": "stdout",
          "text": [
            "2 3 4 5\n",
            "[2, 3, 4, 5]\n",
            "<class 'int'>\n"
          ]
        }
      ]
    },
    {
      "cell_type": "markdown",
      "source": [
        "2.2.2. Khởi tạo danh sách sử dụng phương thức *append()*"
      ],
      "metadata": {
        "id": "_-2gu9HYNflq"
      }
    },
    {
      "cell_type": "code",
      "source": [
        "hs = [\"Nguyễn Văn A\", 10 , 10.5]\n",
        "hs.append(6)\n",
        "print(hs)"
      ],
      "metadata": {
        "colab": {
          "base_uri": "https://localhost:8080/"
        },
        "id": "GQuQL2eYNpSo",
        "outputId": "b9cb95e3-b5e2-4183-9528-d68678edc786"
      },
      "execution_count": 13,
      "outputs": [
        {
          "output_type": "stream",
          "name": "stdout",
          "text": [
            "['Nguyễn Văn A', 10, 10.5, 6]\n"
          ]
        }
      ]
    },
    {
      "cell_type": "markdown",
      "source": [
        "Cú pháp: for pt in range(<số lượng giá trị>):\n",
        "\n",
        "          <bến ds>.append()"
      ],
      "metadata": {
        "id": "fau1ruCMOJZK"
      }
    },
    {
      "cell_type": "code",
      "source": [
        "ds = []\n",
        "for i in range (5):\n",
        "    #ds.append(int(input(\"Nhập phần tử thứ \"+str(i+1)+\":\")))\n",
        "    ds.append(int(input(f\"Nhập phần tử thứ {i+1}: \")))\n",
        "print(ds)\n",
        "print(type(ds[0]))"
      ],
      "metadata": {
        "colab": {
          "base_uri": "https://localhost:8080/"
        },
        "id": "CzX_lCxyOIWQ",
        "outputId": "111bc433-352f-4911-bcc3-f5168f1a5344"
      },
      "execution_count": 25,
      "outputs": [
        {
          "output_type": "stream",
          "name": "stdout",
          "text": [
            "Nhập phần tử thứ 1: 2\n",
            "Nhập phần tử thứ 2: 4\n",
            "Nhập phần tử thứ 3: 6\n",
            "Nhập phần tử thứ 4: 8\n",
            "Nhập phần tử thứ 5: 10\n",
            "[2, 4, 6, 8, 10]\n",
            "<class 'int'>\n"
          ]
        }
      ]
    },
    {
      "cell_type": "markdown",
      "source": [
        "***4. Các thao tác trên danh sách.***"
      ],
      "metadata": {
        "id": "7D-Jx8TGQSUA"
      }
    },
    {
      "cell_type": "markdown",
      "source": [
        "4.1. Truy xuất đến một phần tử trong danh sách."
      ],
      "metadata": {
        "id": "8VSh5vHfQckW"
      }
    },
    {
      "cell_type": "markdown",
      "source": [
        "Cú pháp: <biến danh sách>[<chỉ số>]"
      ],
      "metadata": {
        "id": "MqIARekxQh4G"
      }
    },
    {
      "cell_type": "code",
      "source": [
        "ds = [2, 4, 6, 8, 10]\n",
        "ds[2:]\n",
        "#ds[:-1] --> [2,3,6,8]\n",
        "#ds[a:b:c]\n",
        "ds[1:7:2] # a + c, a+2c, a+3c,.. a+tc<b"
      ],
      "metadata": {
        "colab": {
          "base_uri": "https://localhost:8080/"
        },
        "id": "vwW2nJbDQm1m",
        "outputId": "eee071c0-5499-4a57-b0e7-483085d767df"
      },
      "execution_count": 30,
      "outputs": [
        {
          "output_type": "execute_result",
          "data": {
            "text/plain": [
              "[4, 8]"
            ]
          },
          "metadata": {},
          "execution_count": 30
        }
      ]
    },
    {
      "cell_type": "markdown",
      "source": [
        "5.2. Mở rộng danh sách extend()"
      ],
      "metadata": {
        "id": "M0bmq2gbSbhG"
      }
    },
    {
      "cell_type": "code",
      "source": [
        "ds = [1,3,5,7,9]\n",
        "ds.extend([4,6])\n",
        "#ds.append(4)\n",
        "print(ds)"
      ],
      "metadata": {
        "colab": {
          "base_uri": "https://localhost:8080/"
        },
        "id": "JOLM2kC2S0Ze",
        "outputId": "1b09ee33-fa75-4091-fa33-ff0fb0d0317f"
      },
      "execution_count": 35,
      "outputs": [
        {
          "output_type": "stream",
          "name": "stdout",
          "text": [
            "[1, 3, 5, 7, 9, 4, 6]\n"
          ]
        }
      ]
    },
    {
      "cell_type": "code",
      "source": [
        "dsA = [2,4,6]\n",
        "dsB = [1,3,5]\n",
        "dsAB = dsA + dsB\n",
        "print(dsAB)"
      ],
      "metadata": {
        "colab": {
          "base_uri": "https://localhost:8080/"
        },
        "id": "JI1cf47uU4rG",
        "outputId": "4f24255e-004a-49a2-c7ae-14f4e9a69757"
      },
      "execution_count": 38,
      "outputs": [
        {
          "output_type": "stream",
          "name": "stdout",
          "text": [
            "[2, 4, 6, 1, 3, 5]\n"
          ]
        }
      ]
    },
    {
      "cell_type": "markdown",
      "source": [
        "*5.3. Chèn phần tử vào danh sách: insert()*"
      ],
      "metadata": {
        "id": "VFTHv9zKVIoP"
      }
    },
    {
      "cell_type": "markdown",
      "source": [
        "Thêm phần tử có giá trị tại vị trí có chỉ số trong danh sách. Nếu hoặc\n",
        "thì sẽ được thêm vào đầu danh sách. Nếu thì x sẽ được thêm vào cuối danh\n",
        "sách. Với là số phần tử của danh sách"
      ],
      "metadata": {
        "id": "EFTzE0lmVpgo"
      }
    },
    {
      "cell_type": "code",
      "source": [
        "ds = [2,4,6]\n",
        "ds.insert(-3,0)\n",
        "print(ds)"
      ],
      "metadata": {
        "colab": {
          "base_uri": "https://localhost:8080/"
        },
        "id": "Ze5-xnkzVQRk",
        "outputId": "4b8d80d6-97cb-4526-c76e-a2afeb4f226a"
      },
      "execution_count": 43,
      "outputs": [
        {
          "output_type": "stream",
          "name": "stdout",
          "text": [
            "[0, 2, 4, 6]\n"
          ]
        }
      ]
    }
  ]
}