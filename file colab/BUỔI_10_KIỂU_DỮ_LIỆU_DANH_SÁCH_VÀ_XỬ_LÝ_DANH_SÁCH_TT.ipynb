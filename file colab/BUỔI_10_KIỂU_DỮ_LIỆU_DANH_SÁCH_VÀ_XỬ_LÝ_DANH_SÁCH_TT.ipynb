{
  "nbformat": 4,
  "nbformat_minor": 0,
  "metadata": {
    "colab": {
      "provenance": []
    },
    "kernelspec": {
      "name": "python3",
      "display_name": "Python 3"
    },
    "language_info": {
      "name": "python"
    }
  },
  "cells": [
    {
      "cell_type": "markdown",
      "source": [
        "**KIỂU DỮ LIỆU DANH SÁCH VÀ XỬ LÝ DANH SÁCH**"
      ],
      "metadata": {
        "id": "IAhGa3iiFvNV"
      }
    },
    {
      "cell_type": "markdown",
      "source": [
        "Kiểu danh sách - LIST"
      ],
      "metadata": {
        "id": "hGhmYtJyGJOz"
      }
    },
    {
      "cell_type": "code",
      "source": [
        "hs_1 = \"Nguyễn Văn A\"\n",
        "hs_2 = \"Nguyễn Văn B\"\n",
        "hs_3 = \"Nguyễn Văn C\"\n",
        "hs_4 = \"Nguyễn Văn D\"\n",
        "# List\n",
        "hs = [\"Nguyễn Văn A\",\"Nguyễn Văn B\",\"Nguyễn Văn C\",\"Nguyễn Văn D\"]\n",
        "print(hs)\n",
        "print(type(hs))"
      ],
      "metadata": {
        "colab": {
          "base_uri": "https://localhost:8080/"
        },
        "id": "T3pUVzQxHSFw",
        "outputId": "22402665-9ceb-4fa3-bcde-0c271a872715"
      },
      "execution_count": null,
      "outputs": [
        {
          "output_type": "stream",
          "name": "stdout",
          "text": [
            "['Nguyễn Văn A', 'Nguyễn Văn B', 'Nguyễn Văn C', 'Nguyễn Văn D']\n",
            "<class 'list'>\n"
          ]
        }
      ]
    },
    {
      "cell_type": "markdown",
      "source": [
        "Cú pháp: <tên biến danh sách> = [str,int,float,bool]"
      ],
      "metadata": {
        "id": "q9XfUWCCIk-9"
      }
    },
    {
      "cell_type": "markdown",
      "source": [
        "***2. Khởi tạo một danh sách.***\n",
        "Khởi tạo một danh sách trong Python chúng ta có thể sử dụng một trong các cách sau:\n",
        "\n",
        "2.1. Tạo danh sách sử dụng lệnh gán trực tiếp:"
      ],
      "metadata": {
        "id": "Z6qW0uZ6JqFy"
      }
    },
    {
      "cell_type": "markdown",
      "source": [
        "Cú pháp: <tên biến danh sách> = [giá trị 1, giá trị 2,...giá trị n,...]"
      ],
      "metadata": {
        "id": "qEf-UP16JvUy"
      }
    },
    {
      "cell_type": "markdown",
      "source": [
        "Không có phần tử nào trong ds thì danh sách là rỗng: ví dụ: ds = [ ]"
      ],
      "metadata": {
        "id": "J1JtG12eKACx"
      }
    },
    {
      "cell_type": "markdown",
      "source": [
        "*2.2.1. Khởi tạo danh sách sử dụng vòng lặp .*\n",
        "\n",
        "Phương thức comprehensions"
      ],
      "metadata": {
        "id": "AKry788WKZRq"
      }
    },
    {
      "cell_type": "markdown",
      "source": [
        "Cú pháp: <biến danh sách> = [int(i) for i in input().split()]"
      ],
      "metadata": {
        "id": "8mjahKRMKkPw"
      }
    },
    {
      "cell_type": "code",
      "source": [
        "ds = [int(i) for i in input().split()]\n",
        "print(ds)\n",
        "print(type(ds[2]))"
      ],
      "metadata": {
        "colab": {
          "base_uri": "https://localhost:8080/"
        },
        "id": "2OFS5D49Kzg3",
        "outputId": "8042ed62-3f40-45fc-a0e6-8acf59764e8f"
      },
      "execution_count": null,
      "outputs": [
        {
          "output_type": "stream",
          "name": "stdout",
          "text": [
            "2 3 4 5\n",
            "[2, 3, 4, 5]\n",
            "<class 'int'>\n"
          ]
        }
      ]
    },
    {
      "cell_type": "markdown",
      "source": [
        "2.2.2. Khởi tạo danh sách sử dụng phương thức *append()*"
      ],
      "metadata": {
        "id": "_-2gu9HYNflq"
      }
    },
    {
      "cell_type": "code",
      "source": [
        "hs = [\"Nguyễn Văn A\", 10 , 10.5]\n",
        "hs.append(6)\n",
        "print(hs)"
      ],
      "metadata": {
        "colab": {
          "base_uri": "https://localhost:8080/"
        },
        "id": "GQuQL2eYNpSo",
        "outputId": "b9cb95e3-b5e2-4183-9528-d68678edc786"
      },
      "execution_count": null,
      "outputs": [
        {
          "output_type": "stream",
          "name": "stdout",
          "text": [
            "['Nguyễn Văn A', 10, 10.5, 6]\n"
          ]
        }
      ]
    },
    {
      "cell_type": "markdown",
      "source": [
        "Cú pháp: for pt in range(<số lượng giá trị>):\n",
        "\n",
        "          <bến ds>.append()"
      ],
      "metadata": {
        "id": "fau1ruCMOJZK"
      }
    },
    {
      "cell_type": "code",
      "source": [
        "ds = []\n",
        "for i in range (5):\n",
        "    #ds.append(int(input(\"Nhập phần tử thứ \"+str(i+1)+\":\")))\n",
        "    ds.append(int(input(f\"Nhập phần tử thứ {i+1}: \")))\n",
        "print(ds)\n",
        "print(type(ds[0]))"
      ],
      "metadata": {
        "colab": {
          "base_uri": "https://localhost:8080/"
        },
        "id": "CzX_lCxyOIWQ",
        "outputId": "111bc433-352f-4911-bcc3-f5168f1a5344"
      },
      "execution_count": null,
      "outputs": [
        {
          "output_type": "stream",
          "name": "stdout",
          "text": [
            "Nhập phần tử thứ 1: 2\n",
            "Nhập phần tử thứ 2: 4\n",
            "Nhập phần tử thứ 3: 6\n",
            "Nhập phần tử thứ 4: 8\n",
            "Nhập phần tử thứ 5: 10\n",
            "[2, 4, 6, 8, 10]\n",
            "<class 'int'>\n"
          ]
        }
      ]
    },
    {
      "cell_type": "markdown",
      "source": [
        "***4. Các thao tác trên danh sách.***"
      ],
      "metadata": {
        "id": "7D-Jx8TGQSUA"
      }
    },
    {
      "cell_type": "markdown",
      "source": [
        "4.1. Truy xuất đến một phần tử trong danh sách."
      ],
      "metadata": {
        "id": "8VSh5vHfQckW"
      }
    },
    {
      "cell_type": "markdown",
      "source": [
        "Cú pháp: <biến danh sách>[<chỉ số>]"
      ],
      "metadata": {
        "id": "MqIARekxQh4G"
      }
    },
    {
      "cell_type": "code",
      "source": [
        "ds = [2, 4, 6, 8, 10]\n",
        "ds[2:]\n",
        "#ds[:-1] --> [2,3,6,8]\n",
        "#ds[a:b:c]\n",
        "ds[1:7:2] # a + c, a+2c, a+3c,.. a+tc<b"
      ],
      "metadata": {
        "colab": {
          "base_uri": "https://localhost:8080/"
        },
        "id": "vwW2nJbDQm1m",
        "outputId": "eee071c0-5499-4a57-b0e7-483085d767df"
      },
      "execution_count": null,
      "outputs": [
        {
          "output_type": "execute_result",
          "data": {
            "text/plain": [
              "[4, 8]"
            ]
          },
          "metadata": {},
          "execution_count": 30
        }
      ]
    },
    {
      "cell_type": "markdown",
      "source": [
        "5.2. Mở rộng danh sách extend()"
      ],
      "metadata": {
        "id": "M0bmq2gbSbhG"
      }
    },
    {
      "cell_type": "code",
      "source": [
        "ds = [1,3,5,7,9]\n",
        "ds.extend([4,6])\n",
        "#ds.append(4)\n",
        "print(ds)"
      ],
      "metadata": {
        "colab": {
          "base_uri": "https://localhost:8080/"
        },
        "id": "JOLM2kC2S0Ze",
        "outputId": "1b09ee33-fa75-4091-fa33-ff0fb0d0317f"
      },
      "execution_count": null,
      "outputs": [
        {
          "output_type": "stream",
          "name": "stdout",
          "text": [
            "[1, 3, 5, 7, 9, 4, 6]\n"
          ]
        }
      ]
    },
    {
      "cell_type": "code",
      "source": [
        "dsA = [2,4,6]\n",
        "dsB = [1,3,5]\n",
        "dsAB = dsA + dsB\n",
        "print(dsAB)"
      ],
      "metadata": {
        "colab": {
          "base_uri": "https://localhost:8080/"
        },
        "id": "JI1cf47uU4rG",
        "outputId": "4f24255e-004a-49a2-c7ae-14f4e9a69757"
      },
      "execution_count": null,
      "outputs": [
        {
          "output_type": "stream",
          "name": "stdout",
          "text": [
            "[2, 4, 6, 1, 3, 5]\n"
          ]
        }
      ]
    },
    {
      "cell_type": "markdown",
      "source": [
        "*5.3. Chèn phần tử vào danh sách: insert()*"
      ],
      "metadata": {
        "id": "VFTHv9zKVIoP"
      }
    },
    {
      "cell_type": "markdown",
      "source": [
        "Thêm phần tử có giá trị tại vị trí có chỉ số trong danh sách. Nếu hoặc\n",
        "thì sẽ được thêm vào đầu danh sách. Nếu thì x sẽ được thêm vào cuối danh\n",
        "sách. Với là số phần tử của danh sách"
      ],
      "metadata": {
        "id": "EFTzE0lmVpgo"
      }
    },
    {
      "cell_type": "code",
      "source": [
        "ds = [2,4,6]\n",
        "ds.insert(-3,0)\n",
        "print(ds)"
      ],
      "metadata": {
        "colab": {
          "base_uri": "https://localhost:8080/"
        },
        "id": "Ze5-xnkzVQRk",
        "outputId": "4b8d80d6-97cb-4526-c76e-a2afeb4f226a"
      },
      "execution_count": null,
      "outputs": [
        {
          "output_type": "stream",
          "name": "stdout",
          "text": [
            "[0, 2, 4, 6]\n"
          ]
        }
      ]
    },
    {
      "cell_type": "markdown",
      "source": [
        "5.4. Xóa phần tử trong danh sách\n",
        "\n",
        "5.4.1. Xóa theo chỉ số của phần tử trong danh sách:\n",
        "Xóa phần tử tại vị trí chỉ định, trả về giá trị đã xóa trong kết quả. Danh sách mới sẽ danh sách không còn tồn tại phần tử đã xóa."
      ],
      "metadata": {
        "id": "wqJiqsH4lyBt"
      }
    },
    {
      "cell_type": "markdown",
      "source": [
        "Cú pháp:  del <tên biến danh sách> [ <chỉ số> ]"
      ],
      "metadata": {
        "id": "JBnwQEBkmT4t"
      }
    },
    {
      "cell_type": "code",
      "source": [],
      "metadata": {
        "id": "DvAiUe5ImeSt"
      },
      "execution_count": null,
      "outputs": []
    },
    {
      "cell_type": "code",
      "source": [
        "ds = [2,4,6]\n",
        "del ds[-1] #del --> delete\n",
        "print(ds)"
      ],
      "metadata": {
        "colab": {
          "base_uri": "https://localhost:8080/"
        },
        "id": "SQyOYqh4mQ_M",
        "outputId": "4bb8ef6f-d6db-402a-95e6-0be4e44872ff"
      },
      "execution_count": 3,
      "outputs": [
        {
          "output_type": "stream",
          "name": "stdout",
          "text": [
            "[2, 4]\n"
          ]
        }
      ]
    },
    {
      "cell_type": "code",
      "source": [
        "ds = [2,4,6,3,5,7,6]\n",
        "del ds[-2] #del --> delete\n",
        "print(ds)"
      ],
      "metadata": {
        "colab": {
          "base_uri": "https://localhost:8080/"
        },
        "id": "nNN3t9mjnNK8",
        "outputId": "bfde89ec-5333-40ca-b8f3-145ed6bfe04e"
      },
      "execution_count": 6,
      "outputs": [
        {
          "output_type": "stream",
          "name": "stdout",
          "text": [
            "[2, 4, 6, 3, 5, 6]\n"
          ]
        }
      ]
    },
    {
      "cell_type": "markdown",
      "source": [
        "5.4.2 . Phương thức POP() Xóa phần tử tại vị trí index, trả về giá trị đã xóa trong kết quả."
      ],
      "metadata": {
        "id": "Tg5jsGtencp1"
      }
    },
    {
      "cell_type": "code",
      "source": [
        "ds = [2,4,6,3,5,7,6]\n",
        "ds.pop()\n",
        "print(ds)"
      ],
      "metadata": {
        "colab": {
          "base_uri": "https://localhost:8080/"
        },
        "id": "yyXRAw_LnnZN",
        "outputId": "d27819c8-2cad-44ab-defa-f9e44b28c040"
      },
      "execution_count": 5,
      "outputs": [
        {
          "output_type": "stream",
          "name": "stdout",
          "text": [
            "[2, 4, 6, 3, 5, 7]\n"
          ]
        }
      ]
    },
    {
      "cell_type": "code",
      "source": [
        "ds = [2,4,6,3,5,7,6]\n",
        "ds.pop(4)\n",
        "print(ds)"
      ],
      "metadata": {
        "colab": {
          "base_uri": "https://localhost:8080/"
        },
        "id": "jZPBTdEen3E2",
        "outputId": "715d6d16-8a8a-41f0-aa80-ff2682e05415"
      },
      "execution_count": 9,
      "outputs": [
        {
          "output_type": "stream",
          "name": "stdout",
          "text": [
            "[2, 4, 6, 3, 7, 6]\n"
          ]
        }
      ]
    },
    {
      "cell_type": "markdown",
      "source": [
        "5.4.2. Remove(): Xóa theo giá trị của phần tử trong danh sách:"
      ],
      "metadata": {
        "id": "BG6Az7cYoRsV"
      }
    },
    {
      "cell_type": "code",
      "source": [
        "ds = [2,4,6,3,5,7,6]\n",
        "ds.remove(4)\n",
        "print(ds)"
      ],
      "metadata": {
        "colab": {
          "base_uri": "https://localhost:8080/"
        },
        "id": "yj_Jfe8YobC9",
        "outputId": "806be63f-1d74-4e8e-9db2-df6b6a89ebb9"
      },
      "execution_count": 10,
      "outputs": [
        {
          "output_type": "stream",
          "name": "stdout",
          "text": [
            "[2, 6, 3, 5, 7, 6]\n"
          ]
        }
      ]
    },
    {
      "cell_type": "code",
      "source": [
        "ds = [2,4,6,3,5,4,6]\n",
        "ds.remove(4)\n",
        "print(ds)"
      ],
      "metadata": {
        "colab": {
          "base_uri": "https://localhost:8080/"
        },
        "id": "_1sgw15doquE",
        "outputId": "fb61ed5d-5596-4d5c-a831-90b85d6a309e"
      },
      "execution_count": 14,
      "outputs": [
        {
          "output_type": "stream",
          "name": "stdout",
          "text": [
            "[2, 6, 3, 5, 4, 6]\n"
          ]
        }
      ]
    },
    {
      "cell_type": "markdown",
      "source": [
        "Xóa toàn bộ các giá trị trong danh sách. Danh sách trở về rỗng: clear()"
      ],
      "metadata": {
        "id": "0JeJG6D4pJCp"
      }
    },
    {
      "cell_type": "code",
      "source": [
        "ds = [2,4,6,3,5,4,6]\n",
        "ds.clear()\n",
        "print(ds)"
      ],
      "metadata": {
        "colab": {
          "base_uri": "https://localhost:8080/"
        },
        "id": "UThu0ixPpQQc",
        "outputId": "e4a0f0e2-01fc-49ea-b296-55bf8cd260aa"
      },
      "execution_count": 15,
      "outputs": [
        {
          "output_type": "stream",
          "name": "stdout",
          "text": [
            "[]\n"
          ]
        }
      ]
    },
    {
      "cell_type": "markdown",
      "source": [
        "5.4.3. Phương thức xắp xếp tăng dần, giảm dần các phần tử trong danh sách: sort()"
      ],
      "metadata": {
        "id": "Gcv1y81epYzM"
      }
    },
    {
      "cell_type": "code",
      "source": [
        "ds = [2,4,6,3,5,7,6]\n",
        "ds.sort()\n",
        "print(ds)"
      ],
      "metadata": {
        "colab": {
          "base_uri": "https://localhost:8080/"
        },
        "id": "Fz1jGdBypis8",
        "outputId": "fc179d9b-8324-458a-da01-b8b1978c5b88"
      },
      "execution_count": 16,
      "outputs": [
        {
          "output_type": "stream",
          "name": "stdout",
          "text": [
            "[2, 3, 4, 5, 6, 6, 7]\n"
          ]
        }
      ]
    },
    {
      "cell_type": "code",
      "source": [
        "ds = [2,4,6,3,5,7,6]\n",
        "ds.sort(reverse=True)\n",
        "print(ds)"
      ],
      "metadata": {
        "colab": {
          "base_uri": "https://localhost:8080/"
        },
        "id": "zp59qarCp0KE",
        "outputId": "72d291d2-ce42-4d85-b5b8-488ec3df0384"
      },
      "execution_count": 19,
      "outputs": [
        {
          "output_type": "stream",
          "name": "stdout",
          "text": [
            "[7, 6, 6, 5, 4, 3, 2]\n"
          ]
        }
      ]
    },
    {
      "cell_type": "markdown",
      "source": [
        "Trả về một danh sách chứa các phần tử trong danh sách đã được sắp xếp theo thứ tự tăng dần về giá trị."
      ],
      "metadata": {
        "id": "qwVlUfvDqdq_"
      }
    },
    {
      "cell_type": "code",
      "source": [
        "ds = [2,4,6,3,5,7,6]\n",
        "lst = sorted(ds)\n",
        "print(ds)\n",
        "print(lst)"
      ],
      "metadata": {
        "colab": {
          "base_uri": "https://localhost:8080/"
        },
        "id": "guf1ZBe8qjlc",
        "outputId": "c5ba1310-5d7c-42cf-ac0e-188cb6a4ae1c"
      },
      "execution_count": 23,
      "outputs": [
        {
          "output_type": "stream",
          "name": "stdout",
          "text": [
            "[2, 4, 6, 3, 5, 7, 6]\n",
            "[2, 3, 4, 5, 6, 6, 7]\n"
          ]
        }
      ]
    },
    {
      "cell_type": "code",
      "source": [
        "ds = [2,4,6,3,5,7,6]\n",
        "lst = sorted(ds,reverse=True)\n",
        "print(ds)\n",
        "print(lst)"
      ],
      "metadata": {
        "colab": {
          "base_uri": "https://localhost:8080/"
        },
        "id": "oQT58HVdrr0F",
        "outputId": "d3fdf184-441c-4a9e-f859-5b3ba2cf9892"
      },
      "execution_count": 24,
      "outputs": [
        {
          "output_type": "stream",
          "name": "stdout",
          "text": [
            "[2, 4, 6, 3, 5, 7, 6]\n",
            "[7, 6, 6, 5, 4, 3, 2]\n"
          ]
        }
      ]
    },
    {
      "cell_type": "code",
      "source": [
        "ds = [2,4,6,3,5,7,6]\n",
        "print(max(ds))\n",
        "print(min(ds))\n",
        "print(len(ds))\n",
        "print(sum(ds))"
      ],
      "metadata": {
        "colab": {
          "base_uri": "https://localhost:8080/"
        },
        "id": "R-QmLcYvr5Js",
        "outputId": "2fdd78f3-6b3f-406b-9fdc-3ce59ca14d56"
      },
      "execution_count": 25,
      "outputs": [
        {
          "output_type": "stream",
          "name": "stdout",
          "text": [
            "7\n",
            "2\n",
            "7\n",
            "33\n"
          ]
        }
      ]
    },
    {
      "cell_type": "code",
      "source": [
        "ds = [2,4,6,3,5,7,6]\n",
        "print(ds.count(6))\n",
        "print(ds.count(7))"
      ],
      "metadata": {
        "colab": {
          "base_uri": "https://localhost:8080/"
        },
        "id": "QewbzqVksXMI",
        "outputId": "91efebbe-8c62-4653-c4f8-74b58f34290c"
      },
      "execution_count": 27,
      "outputs": [
        {
          "output_type": "stream",
          "name": "stdout",
          "text": [
            "2\n",
            "1\n"
          ]
        }
      ]
    },
    {
      "cell_type": "code",
      "source": [
        "ds = [2,4,6,3,5,7,6]\n",
        "#print(ds[::-1])\n",
        "ds.reverse()\n",
        "print(ds)"
      ],
      "metadata": {
        "colab": {
          "base_uri": "https://localhost:8080/"
        },
        "id": "O4y0IKVmslyU",
        "outputId": "e2ce4293-6ad7-40e7-9ce7-0234d1914b55"
      },
      "execution_count": 38,
      "outputs": [
        {
          "output_type": "stream",
          "name": "stdout",
          "text": [
            "[6, 7, 5, 3, 6, 4, 2]\n"
          ]
        }
      ]
    },
    {
      "cell_type": "code",
      "source": [
        "ds = [2,4,6,3,5,7,6]\n",
        "if 5 in ds:print(\"Yes\")\n",
        "if 8 not in ds:print(\"No\")"
      ],
      "metadata": {
        "colab": {
          "base_uri": "https://localhost:8080/"
        },
        "id": "4mFhJEX2uBlM",
        "outputId": "0c1c1b0c-63cc-4f89-e06a-68bc6d5b4a33"
      },
      "execution_count": 43,
      "outputs": [
        {
          "output_type": "stream",
          "name": "stdout",
          "text": [
            "Yes\n",
            "No\n"
          ]
        }
      ]
    },
    {
      "cell_type": "markdown",
      "source": [
        "**B. Lập trình.**\n",
        "\n",
        "***Bài tập 9.1:*** Xoay vòng danh sách: Cho một danh sách, hãy xoay vòng danh sách bằng cách\n",
        "chuyển phần tử cuối cùng đến vị trí đầu tiên của danh sách."
      ],
      "metadata": {
        "id": "9oEb40scxQ-8"
      }
    },
    {
      "cell_type": "code",
      "source": [
        "ds = [1,2,3,4,5]\n",
        "#ds = [int(i) for i in input().split()]\n",
        "var = ds.pop()\n",
        "ds.insert(0,var)\n",
        "print(ds)"
      ],
      "metadata": {
        "colab": {
          "base_uri": "https://localhost:8080/"
        },
        "id": "RPJtnModxjey",
        "outputId": "060934b3-9b1f-4f7d-9d40-d1848ed80888"
      },
      "execution_count": 52,
      "outputs": [
        {
          "output_type": "stream",
          "name": "stdout",
          "text": [
            "[5, 1, 2, 3, 4]\n"
          ]
        }
      ]
    },
    {
      "cell_type": "markdown",
      "source": [
        "**Bài tập 9.2:** Nhận dạng hãng xe. Camera đặt cạnh trạm thu phí đường cao tốc ghi nhận nhiều\n",
        "thông tin, trong đó có nhiệm vụ nhận dạng loại ô tô đi qua. Mỗi loại ô tô được mã hóa thành một chữ\n",
        "cái. hãy viết chương trình nhận dạng hiển thị số lượng có bao nhiêu loại xe khác nhau đã đi qua trạm.\n",
        "Ví dụ:"
      ],
      "metadata": {
        "id": "5TsGTfi30aH8"
      }
    },
    {
      "cell_type": "code",
      "source": [
        "ds = [\"K\",\"H\",\"T\",\"K\",\"K\",\"T\",\"H\",\"K\",\"A\"]\n",
        "lst = []\n",
        "for hangxe in ds:\n",
        "    if hangxe not in lst: lst.append(hangxe)\n",
        "print(len(lst))"
      ],
      "metadata": {
        "colab": {
          "base_uri": "https://localhost:8080/"
        },
        "id": "Wb1tkmfr1PpF",
        "outputId": "f746a4a7-e767-409e-b8fb-e8bdfacd8fd5"
      },
      "execution_count": 57,
      "outputs": [
        {
          "output_type": "stream",
          "name": "stdout",
          "text": [
            "4\n"
          ]
        }
      ]
    },
    {
      "cell_type": "code",
      "source": [
        "ds = [\"K\",\"H\",\"T\",\"K\",\"K\",\"T\",\"H\",\"K\",\"A\"]\n",
        "lst = sorted(ds)\n",
        "dem = 0\n",
        "for hangxe in range(len(lst)):\n",
        "    if lst[hangxe] != lst[hangxe-1]: dem+=1\n",
        "print(lst)\n",
        "print(dem)"
      ],
      "metadata": {
        "colab": {
          "base_uri": "https://localhost:8080/"
        },
        "id": "N7g54xgM4Ns0",
        "outputId": "6a540ff7-84cb-42f8-df43-dd68c81997a5"
      },
      "execution_count": 61,
      "outputs": [
        {
          "output_type": "stream",
          "name": "stdout",
          "text": [
            "['A', 'H', 'H', 'K', 'K', 'K', 'K', 'T', 'T']\n",
            "4\n"
          ]
        }
      ]
    },
    {
      "cell_type": "markdown",
      "source": [
        "**Bài tập 9.4:** Xử lý hai danh sách.\n",
        "Tạo hai danh sách có n phần tử là số nguyên a0, a1, a2,… an-1 (với 4 ≤ n ≤ 99) được nhập vào\n",
        "từ bàn phím. Thực hiện các nhiệm vụ theo yêu cầu:\n",
        "Đầu vào: + Dòng thứ nhất là lần lượt là các phần tử được nhập vào cách nhau một khoảng trắng cho\n",
        "danh sách thứ nhất.\n",
        "+ Dòng thứ hai lần lượt là các phần tử được nhập vào cách nhau một khoảng trắng cho\n",
        "danh sách thứ hai.\n",
        "Đầu ra: + Dòng thứ nhất, thứ hai là danh sách các phần tử được nhập vào từ bàn phím.\n",
        "+ Dòng thứ ba là danh sách: Lấy ra các phần tử chẵn trong danh sách thứ nhất.\n",
        "+ Dòng thứ tư là danh sách: Lấy ra các phần tử lẻ trong danh sách thứ hai.\n",
        "+ Dòng thứ năm là: Tổng số lượng phần tử có trong danh sách mới tạo từ danh sách dòng\n",
        "thứ ba và danh sách dòng thứ tư.\n",
        "+ Dòng thứ năm là: Sắp xếp các phần âm về đầu danh sách theo thứ tự giảm dần, phần tử\n",
        "dương về cuối danh sách theo thứ tự tăng dần từ danh sách của dòng thứ ba và danh sách của dòng\n",
        "thứ tư"
      ],
      "metadata": {
        "id": "GpSEbZRo6DWk"
      }
    },
    {
      "cell_type": "code",
      "source": [
        "ds1 = [4,-8,6,22,-15,2,11,8,33,7]\n",
        "ds2 = [24,8,-12,13,-1,12,21,5,30]\n",
        "# ds = [int(i) for i in input().split()]\n",
        "# ds = list(map(int,input().split()))\n",
        "chan = []\n",
        "le  = []\n",
        "for sochan in ds1:\n",
        "    if sochan % 2 == 0: chan.append(sochan)\n",
        "for sole in ds2:\n",
        "    if sole % 2 == 1: le.append(sole)\n",
        "print(chan)\n",
        "print(le)\n",
        "print(len(chan)+len(le))\n",
        "dsm = chan + le\n",
        "print(dsm)\n",
        "am = []\n",
        "du = []\n",
        "for soam in dsm:\n",
        "    if soam < 0: am.append(soam)\n",
        "    else: du.append(soam)\n",
        "print(am,du)"
      ],
      "metadata": {
        "colab": {
          "base_uri": "https://localhost:8080/"
        },
        "id": "1NDl5Aak6g-t",
        "outputId": "5bc1f699-1104-4209-9930-5896dd154a30"
      },
      "execution_count": 72,
      "outputs": [
        {
          "output_type": "stream",
          "name": "stdout",
          "text": [
            "[4, -8, 6, 22, 2, 8]\n",
            "[13, -1, 21, 5]\n",
            "10\n",
            "[4, -8, 6, 22, 2, 8, 13, -1, 21, 5]\n",
            "[-8, -1] [4, 6, 22, 2, 8, 13, 21, 5]\n"
          ]
        }
      ]
    }
  ]
}