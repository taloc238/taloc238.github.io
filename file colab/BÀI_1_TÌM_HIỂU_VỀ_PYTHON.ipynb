{
  "nbformat": 4,
  "nbformat_minor": 0,
  "metadata": {
    "colab": {
      "provenance": []
    },
    "kernelspec": {
      "name": "python3",
      "display_name": "Python 3"
    },
    "language_info": {
      "name": "python"
    }
  },
  "cells": [
    {
      "cell_type": "markdown",
      "source": [
        "BÀI 1 - TÌM HIỂU PYTHON"
      ],
      "metadata": {
        "id": "vCADen7gVz8-"
      }
    },
    {
      "cell_type": "markdown",
      "source": [
        "Câu lệnh đầu tiên: print()"
      ],
      "metadata": {
        "id": "acxcowVjYmOA"
      }
    },
    {
      "cell_type": "code",
      "execution_count": 19,
      "metadata": {
        "colab": {
          "base_uri": "https://localhost:8080/"
        },
        "id": "c_yT-ehIVnP6",
        "outputId": "e78d56db-c74b-46f4-9124-a4c5a27b269a"
      },
      "outputs": [
        {
          "output_type": "stream",
          "name": "stdout",
          "text": [
            "Xin chào Python\n",
            "Xin chào bạn\n",
            "\"************************************\n",
            "           * LẬP TRÌNH CĂN BẢN *\n",
            "            * Ngôn ngữ: PYTHON *\n",
            "************************************\n"
          ]
        }
      ],
      "source": [
        "print(\"Xin chào Python\")\n",
        "print('Xin chào bạn')\n",
        "print(\"\"\"\"************************************\n",
        "           * LẬP TRÌNH CĂN BẢN *\n",
        "            * Ngôn ngữ: PYTHON *\n",
        "************************************\"\"\") \n",
        "#newline"
      ]
    },
    {
      "cell_type": "code",
      "source": [
        "A = 5\n",
        "B = 6\n",
        "print(A+B)"
      ],
      "metadata": {
        "colab": {
          "base_uri": "https://localhost:8080/"
        },
        "id": "vyVDta5uZmJY",
        "outputId": "6084b069-b26e-437e-9fe3-a5118e566a41"
      },
      "execution_count": 21,
      "outputs": [
        {
          "output_type": "stream",
          "name": "stdout",
          "text": [
            "11\n"
          ]
        }
      ]
    },
    {
      "cell_type": "markdown",
      "source": [
        "Cú pháp: <tên biến> = giá trị"
      ],
      "metadata": {
        "id": "uEM-bS6aaPHB"
      }
    },
    {
      "cell_type": "code",
      "source": [
        "A = 6 #Z\n",
        "B = 6 #Z\n",
        "C = 7.8 #R\n",
        "D = True #Logic\n",
        "E = \"Python\"\n",
        "print(id(A))\n",
        "print(id(B))\n",
        "print(type(A)) #integer\n",
        "print(type(C)) #float\n",
        "print(type(D)) #Logic\n",
        "print(type(E)) #String"
      ],
      "metadata": {
        "colab": {
          "base_uri": "https://localhost:8080/"
        },
        "id": "MIkK3mEQbK2Q",
        "outputId": "210e6cfb-3e6a-4971-ced8-d5a8f969d2f5"
      },
      "execution_count": 30,
      "outputs": [
        {
          "output_type": "stream",
          "name": "stdout",
          "text": [
            "140122657407376\n",
            "140122657407376\n",
            "<class 'int'>\n",
            "<class 'float'>\n",
            "<class 'bool'>\n",
            "<class 'str'>\n"
          ]
        }
      ]
    },
    {
      "cell_type": "code",
      "source": [
        "A = B = C = 10\n",
        "D, E, F = 5, 6, 7\n",
        "print(A)\n",
        "print(B)\n",
        "print(C)\n",
        "print(D)\n",
        "print(E)\n",
        "print(F)"
      ],
      "metadata": {
        "colab": {
          "base_uri": "https://localhost:8080/"
        },
        "id": "GUmsL-B7dq7j",
        "outputId": "efc48b1d-8f7e-4c5f-94ea-c4a531c76055"
      },
      "execution_count": 35,
      "outputs": [
        {
          "output_type": "stream",
          "name": "stdout",
          "text": [
            "10\n",
            "10\n",
            "10\n",
            "5\n",
            "6\n",
            "7\n"
          ]
        }
      ]
    },
    {
      "cell_type": "code",
      "source": [
        "A"
      ],
      "metadata": {
        "colab": {
          "base_uri": "https://localhost:8080/"
        },
        "id": "TCRTlPWdeXp5",
        "outputId": "4608e1cb-7dac-42c5-8764-913aedecc627"
      },
      "execution_count": 33,
      "outputs": [
        {
          "output_type": "execute_result",
          "data": {
            "text/plain": [
              "10"
            ]
          },
          "metadata": {},
          "execution_count": 33
        }
      ]
    },
    {
      "cell_type": "code",
      "source": [
        "A = 11 \n",
        "a = 12\n",
        "bai_1 = 5\n",
        "print(A,a)"
      ],
      "metadata": {
        "colab": {
          "base_uri": "https://localhost:8080/"
        },
        "id": "jjmXmtf_fH85",
        "outputId": "2a726f18-3b7b-4b9c-df6a-16aa92e715e2"
      },
      "execution_count": 39,
      "outputs": [
        {
          "output_type": "stream",
          "name": "stdout",
          "text": [
            "11 12\n"
          ]
        }
      ]
    },
    {
      "cell_type": "code",
      "source": [
        "A = [2,5,6,3,7]\n",
        "max = 3\n",
        "print(max)"
      ],
      "metadata": {
        "colab": {
          "base_uri": "https://localhost:8080/"
        },
        "id": "cOm0miwrf5x1",
        "outputId": "c7fdb060-80e7-4fd2-f633-4ae9869914dc"
      },
      "execution_count": 42,
      "outputs": [
        {
          "output_type": "stream",
          "name": "stdout",
          "text": [
            "3\n"
          ]
        }
      ]
    },
    {
      "cell_type": "code",
      "source": [
        "gan = \"Python\"\n",
        "dulieu = 3\n",
        "print(gan, end=\" \")\n",
        "print(dulieu)"
      ],
      "metadata": {
        "colab": {
          "base_uri": "https://localhost:8080/"
        },
        "id": "YC_-YahRg8Xz",
        "outputId": "d5bb10c4-1d3c-4da4-bcf3-e68e38b2a56f"
      },
      "execution_count": 49,
      "outputs": [
        {
          "output_type": "stream",
          "name": "stdout",
          "text": [
            "Python 3\n"
          ]
        }
      ]
    },
    {
      "cell_type": "markdown",
      "source": [
        "Câu lệnh input()"
      ],
      "metadata": {
        "id": "Fb8_7bxShvA7"
      }
    },
    {
      "cell_type": "code",
      "source": [
        "ten = input(\"Bạn tên là gì?\")\n",
        "print('Tôi tên là:',ten)"
      ],
      "metadata": {
        "colab": {
          "base_uri": "https://localhost:8080/"
        },
        "id": "mo0_EbKJhuQL",
        "outputId": "a136804f-1f12-4fa3-b083-8e0c90476f48"
      },
      "execution_count": 55,
      "outputs": [
        {
          "output_type": "stream",
          "name": "stdout",
          "text": [
            "Bạn tên là gì?Long\n",
            "Tôi tên là: Long\n"
          ]
        }
      ]
    },
    {
      "cell_type": "code",
      "source": [
        "name = print(input(\"Bạn tên là gì? \"))"
      ],
      "metadata": {
        "colab": {
          "base_uri": "https://localhost:8080/"
        },
        "id": "R2lrppD0i43X",
        "outputId": "57b79948-c45e-41b4-9ef4-6afd12ffea07"
      },
      "execution_count": 61,
      "outputs": [
        {
          "output_type": "stream",
          "name": "stdout",
          "text": [
            "Bạn tên là gì? Long\n",
            "Long\n"
          ]
        }
      ]
    },
    {
      "cell_type": "code",
      "source": [
        "A = 10\n",
        "B = 15.5\n",
        "C = \"101\"\n",
        "E = int(B)\n",
        "F = int(C)\n",
        "G = float(A)\n",
        "print(type(A))\n",
        "print(type(E))\n",
        "print(type(F))\n",
        "print(type(G))"
      ],
      "metadata": {
        "colab": {
          "base_uri": "https://localhost:8080/"
        },
        "id": "Vsf26lQwkelG",
        "outputId": "c3e15986-ca75-49d4-a557-2d4c6d7cec42"
      },
      "execution_count": 65,
      "outputs": [
        {
          "output_type": "stream",
          "name": "stdout",
          "text": [
            "<class 'int'>\n",
            "<class 'int'>\n",
            "<class 'int'>\n",
            "<class 'float'>\n"
          ]
        }
      ]
    },
    {
      "cell_type": "code",
      "source": [
        "A = 10\n",
        "B = 15.5\n",
        "B = int(B)\n",
        "print(type(A))\n",
        "print(type(B))"
      ],
      "metadata": {
        "colab": {
          "base_uri": "https://localhost:8080/"
        },
        "id": "Iurn6gHklkva",
        "outputId": "510784de-b0b2-41f0-8f7e-6eca66edd1e1"
      },
      "execution_count": 66,
      "outputs": [
        {
          "output_type": "stream",
          "name": "stdout",
          "text": [
            "<class 'int'>\n",
            "<class 'int'>\n"
          ]
        }
      ]
    }
  ]
}