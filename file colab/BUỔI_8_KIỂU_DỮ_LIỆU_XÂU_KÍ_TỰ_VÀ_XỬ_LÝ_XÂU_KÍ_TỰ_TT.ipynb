{
  "nbformat": 4,
  "nbformat_minor": 0,
  "metadata": {
    "colab": {
      "provenance": []
    },
    "kernelspec": {
      "name": "python3",
      "display_name": "Python 3"
    },
    "language_info": {
      "name": "python"
    }
  },
  "cells": [
    {
      "cell_type": "markdown",
      "source": [
        "**KIỂU DỮ LIỆU XÂU KÍ TỰ VÀ XỬ LÝ XÂU KÍ TỰ**"
      ],
      "metadata": {
        "id": "chv2seFCGsvs"
      }
    },
    {
      "cell_type": "markdown",
      "source": [
        "***5. Các phương thức xử lý trên xâu.***"
      ],
      "metadata": {
        "id": "UR9mP1xthilh"
      }
    },
    {
      "cell_type": "markdown",
      "source": [
        "*5.1. Phương thức : isdigit()*"
      ],
      "metadata": {
        "id": "LFW4ND71hxLC"
      }
    },
    {
      "cell_type": "code",
      "source": [
        "xau = \"Viet Nam 2023\"\n",
        "xaumoi =\"\"\n",
        "for kitu in xau:\n",
        "    if kitu.isdigit(): xaumoi += kitu\n",
        "print(xaumoi)\n",
        "print(type(xaumoi))"
      ],
      "metadata": {
        "colab": {
          "base_uri": "https://localhost:8080/"
        },
        "id": "1xHCzEOeiDoQ",
        "outputId": "a694d01a-576e-4576-a40c-5ba29a3b3ff9"
      },
      "execution_count": 16,
      "outputs": [
        {
          "output_type": "stream",
          "name": "stdout",
          "text": [
            "2023\n",
            "<class 'str'>\n"
          ]
        }
      ]
    },
    {
      "cell_type": "code",
      "source": [
        "xau = \"Viet 20 Nam 23\"\n",
        "for kitu in xau:\n",
        "    if kitu.isdigit():\n",
        "        print(kitu)"
      ],
      "metadata": {
        "colab": {
          "base_uri": "https://localhost:8080/"
        },
        "id": "y7BZ5UVukcA_",
        "outputId": "dd2d2bd6-5405-406f-ebd5-46b0f5fd7371"
      },
      "execution_count": 18,
      "outputs": [
        {
          "output_type": "stream",
          "name": "stdout",
          "text": [
            "2\n",
            "0\n",
            "2\n",
            "3\n"
          ]
        }
      ]
    },
    {
      "cell_type": "markdown",
      "source": [
        "*5.1. Phương thức : isalpha()*"
      ],
      "metadata": {
        "id": "fkS5dLQOlioA"
      }
    },
    {
      "cell_type": "code",
      "source": [
        "xau = \"Viet Nam 2023\"\n",
        "xauchu =\"\"\n",
        "for kitu in xau:\n",
        "    if kitu.isalpha(): xauchu += kitu\n",
        "print(xauchu)"
      ],
      "metadata": {
        "colab": {
          "base_uri": "https://localhost:8080/"
        },
        "id": "0sbOFMQOlrt4",
        "outputId": "2975dced-8a8b-4606-f45b-16ff4f196ba4"
      },
      "execution_count": 19,
      "outputs": [
        {
          "output_type": "stream",
          "name": "stdout",
          "text": [
            "VietNam\n"
          ]
        }
      ]
    },
    {
      "cell_type": "markdown",
      "source": [
        "*5.3. Phương thức : count()*"
      ],
      "metadata": {
        "id": "j_lS5rRfmZgA"
      }
    },
    {
      "cell_type": "markdown",
      "source": [
        "Đếm số lần xuất hiện của một xâu con trong xâu, giá trị trả về sau\n",
        "lời gọi hàm là một số nguyên."
      ],
      "metadata": {
        "id": "p9PVqqKrnE4n"
      }
    },
    {
      "cell_type": "code",
      "source": [
        "xau = \"Viet Nam Muôn Năm\"\n",
        "print(xau.count(\"m\",2,14))"
      ],
      "metadata": {
        "colab": {
          "base_uri": "https://localhost:8080/"
        },
        "id": "rVSb-ZXCmkrf",
        "outputId": "319b055e-b3d0-4272-eb5a-0c578f49651f"
      },
      "execution_count": 26,
      "outputs": [
        {
          "output_type": "stream",
          "name": "stdout",
          "text": [
            "1\n"
          ]
        }
      ]
    },
    {
      "cell_type": "markdown",
      "source": [
        "*5.4. Phương thức : find()*\n",
        "\n",
        "Tìm kiếm xâu con trong một xâu. Giá trị trả về là vị trí đầu tiên\n",
        "xuất hiện xâu con khi tìm từ trái sang phải, nếu xâu con không có trong xâu thì kết quả trả về\n",
        "sẽ là –1."
      ],
      "metadata": {
        "id": "nh4ol8mjnnfv"
      }
    },
    {
      "cell_type": "code",
      "source": [
        "xau = \"Viet Nam Muôn Năm\"\n",
        "print(xau.find(\"N\",2,18))"
      ],
      "metadata": {
        "colab": {
          "base_uri": "https://localhost:8080/"
        },
        "id": "k2gALlHXnvSW",
        "outputId": "a60e787a-e1a6-4031-a632-a19a33c2a0e2"
      },
      "execution_count": 30,
      "outputs": [
        {
          "output_type": "stream",
          "name": "stdout",
          "text": [
            "5\n"
          ]
        }
      ]
    },
    {
      "cell_type": "markdown",
      "source": [
        "*5.5. Phương thức : replace()*"
      ],
      "metadata": {
        "id": "p7pZJ9ykogzV"
      }
    },
    {
      "cell_type": "code",
      "source": [
        "xau = \"Viet Nam Muôn Năm\"\n",
        "print(xau.replace(\"N\",\"M\",1))"
      ],
      "metadata": {
        "colab": {
          "base_uri": "https://localhost:8080/"
        },
        "id": "iiU4ITrSoo-e",
        "outputId": "b0e162e8-35cd-43d0-fd5c-bcd6cea68c68"
      },
      "execution_count": 35,
      "outputs": [
        {
          "output_type": "stream",
          "name": "stdout",
          "text": [
            "Viet Mam Muôn Năm\n"
          ]
        }
      ]
    },
    {
      "cell_type": "markdown",
      "source": [
        "*5.6. Phương thức : split()*"
      ],
      "metadata": {
        "id": "IQGooMJIpZ72"
      }
    },
    {
      "cell_type": "code",
      "source": [
        "xau = \"Viet Nam Muôn Năm\"\n",
        "xaumoi = xau.split()\n",
        "print(type(xau))\n",
        "print(type(xaumoi))\n",
        "print(xaumoi)"
      ],
      "metadata": {
        "colab": {
          "base_uri": "https://localhost:8080/"
        },
        "id": "xjvFHw25ppHd",
        "outputId": "7c97b563-9dea-4c14-f284-49ad464ed898"
      },
      "execution_count": 40,
      "outputs": [
        {
          "output_type": "stream",
          "name": "stdout",
          "text": [
            "<class 'str'>\n",
            "<class 'list'>\n",
            "['Viet', 'Nam', 'Muôn', 'Năm']\n"
          ]
        }
      ]
    },
    {
      "cell_type": "code",
      "source": [
        "xau = \"Viet-Nam-Muôn-Năm\"\n",
        "xaumoi = xau.split(\"-\")\n",
        "print(xaumoi)"
      ],
      "metadata": {
        "colab": {
          "base_uri": "https://localhost:8080/"
        },
        "id": "2c4Cx0bLqSSe",
        "outputId": "91654593-f7ce-40af-94ff-68671a868f61"
      },
      "execution_count": 42,
      "outputs": [
        {
          "output_type": "stream",
          "name": "stdout",
          "text": [
            "['Viet', 'Nam', 'Muôn', 'Năm']\n"
          ]
        }
      ]
    },
    {
      "cell_type": "markdown",
      "source": [
        "5.7. Phương thức : join()\n"
      ],
      "metadata": {
        "id": "Y8b8CYWsrlbY"
      }
    },
    {
      "cell_type": "code",
      "source": [
        "xau = \"Viet Nam Muôn Năm\"\n",
        "xaumoi = \"+\".join(xau)\n",
        "print(xaumoi)"
      ],
      "metadata": {
        "colab": {
          "base_uri": "https://localhost:8080/"
        },
        "id": "RsjzDKRZrqAk",
        "outputId": "09d15f49-8203-48c7-f637-89d4f78e362f"
      },
      "execution_count": 49,
      "outputs": [
        {
          "output_type": "stream",
          "name": "stdout",
          "text": [
            "V+i+e+t+ +N+a+m+ +M+u+ô+n+ +N+ă+m\n"
          ]
        }
      ]
    },
    {
      "cell_type": "markdown",
      "source": [
        "*5.8. Phương thức : format()*"
      ],
      "metadata": {
        "id": "T5tkJmkVsmCn"
      }
    },
    {
      "cell_type": "code",
      "source": [
        "A = 5\n",
        "B = 7\n",
        "C = A + B\n",
        "print(\"Kết quả của A({0}) + B({1}) = {2}\".format(A,B,C))"
      ],
      "metadata": {
        "colab": {
          "base_uri": "https://localhost:8080/"
        },
        "id": "fnCY2HWHstzR",
        "outputId": "c0e03f49-52f9-4079-c921-c19425eee8ee"
      },
      "execution_count": 55,
      "outputs": [
        {
          "output_type": "stream",
          "name": "stdout",
          "text": [
            "Kết quả của A(5) + B(7) = 12\n"
          ]
        }
      ]
    },
    {
      "cell_type": "markdown",
      "source": [
        "*5.9. Phương thức : len()*"
      ],
      "metadata": {
        "id": "cFXBSHootbLt"
      }
    },
    {
      "cell_type": "code",
      "source": [
        "xau = \"Viet Nam-Muôn-Năm\"\n",
        "print(len(xau))"
      ],
      "metadata": {
        "colab": {
          "base_uri": "https://localhost:8080/"
        },
        "id": "-RyOi7hhtfQE",
        "outputId": "0e66e283-7c7b-4a37-9c95-2f639f51a260"
      },
      "execution_count": 56,
      "outputs": [
        {
          "output_type": "stream",
          "name": "stdout",
          "text": [
            "17\n"
          ]
        }
      ]
    },
    {
      "cell_type": "code",
      "source": [
        "xau = \"Viet Nam Muôn Năm\"\n",
        "print(xau.upper())\n",
        "print(xau.lower())"
      ],
      "metadata": {
        "colab": {
          "base_uri": "https://localhost:8080/"
        },
        "id": "kCU96yu6t1FW",
        "outputId": "37cb6500-e8f2-43fb-9b44-16666807bfbd"
      },
      "execution_count": 61,
      "outputs": [
        {
          "output_type": "stream",
          "name": "stdout",
          "text": [
            "VIET NAM MUÔN NĂM\n",
            "viet nam muôn năm\n"
          ]
        }
      ]
    },
    {
      "cell_type": "markdown",
      "source": [
        "**B. Bài tập.**\n",
        "\n",
        "\n",
        "***Bài tập 8.1.*** Chỉ số chẵn: Viết chương trình nhận một xâu từ người dùng nhập từ bàn phím và hiển thị các ký tự tại vị trí có chỉ số chẵn.\n",
        "\n",
        "\n",
        "Yêu cầu: Những vị trí chẵn là khoảng trắng thì không hiển thị."
      ],
      "metadata": {
        "id": "1orT-196u2sl"
      }
    },
    {
      "cell_type": "code",
      "source": [
        "xtr = \"THPT CÁT TIÊN\"\n",
        "for kitu in range(len(xtr)):\n",
        "    if kitu % 2 == 0: print(xtr[kitu])"
      ],
      "metadata": {
        "colab": {
          "base_uri": "https://localhost:8080/"
        },
        "id": "ihPkCnvBvTYq",
        "outputId": "f2a1c8c3-091f-459c-fdbb-f8d3fe7c287d"
      },
      "execution_count": 64,
      "outputs": [
        {
          "output_type": "stream",
          "name": "stdout",
          "text": [
            "T\n",
            "P\n",
            " \n",
            "Á\n",
            " \n",
            "I\n",
            "N\n"
          ]
        }
      ]
    },
    {
      "cell_type": "markdown",
      "source": [
        "***Bài tập 8.2***. Kí tự giữa xâu: Viết chương trình tạo một xâu mới gồm ba ký tự ở giữa của một\n",
        "chuỗi được nhập vào từ bàn phím"
      ],
      "metadata": {
        "id": "cNKCTxjPwr3j"
      }
    },
    {
      "cell_type": "code",
      "source": [
        "xau = \"VIỆT-NAM-MUÔN-NĂM\"\n",
        "giua = len(xau)//2\n",
        "ketqua = \"\"\n",
        "ketqua = xau[giua-1]+xau[giua]+xau[giua+1]\n",
        "print(ketqua)"
      ],
      "metadata": {
        "colab": {
          "base_uri": "https://localhost:8080/"
        },
        "id": "LiBQziRpxTaj",
        "outputId": "db855ba4-c2d6-4ef9-a932-f2e494f2742e"
      },
      "execution_count": 91,
      "outputs": [
        {
          "output_type": "stream",
          "name": "stdout",
          "text": [
            "M-M\n"
          ]
        }
      ]
    },
    {
      "cell_type": "markdown",
      "source": [
        "**Bài tập 8.3.** Tổng và trung bình cộng: Viết chương trình tính tổng và trung bình cộng (làm\n",
        "tròn đến 3 chữ số thập phân) của xâu kí tự số với đầu vào là xâu kí tự bất kì được nhập vào từ bàn\n",
        "phím."
      ],
      "metadata": {
        "id": "S0oIW-rHzxzc"
      }
    },
    {
      "cell_type": "code",
      "source": [
        "xau = \"Lớp 10A5\"\n",
        "tong = 0\n",
        "xauso = \"\"\n",
        "dem  = 0\n",
        "for kitu in xau:\n",
        "    if kitu.isdigit():\n",
        "        dem +=1\n",
        "        tong += int(kitu)\n",
        "        xauso += kitu\n",
        "print(tong,round(int(xauso)/dem,3))"
      ],
      "metadata": {
        "colab": {
          "base_uri": "https://localhost:8080/"
        },
        "id": "RkBW_QYa1OOK",
        "outputId": "2fb17c74-78c8-4a7b-f2f6-e07b76b56aff"
      },
      "execution_count": 84,
      "outputs": [
        {
          "output_type": "stream",
          "name": "stdout",
          "text": [
            "6 35.0\n"
          ]
        }
      ]
    },
    {
      "cell_type": "code",
      "source": [
        "xau = \"vietnam\"\n",
        "print(xau[::-1])"
      ],
      "metadata": {
        "colab": {
          "base_uri": "https://localhost:8080/"
        },
        "id": "uw-Xcs704G57",
        "outputId": "128774cb-0075-4190-f9a9-ff4405df731f"
      },
      "execution_count": 86,
      "outputs": [
        {
          "output_type": "stream",
          "name": "stdout",
          "text": [
            "manteiv\n"
          ]
        }
      ]
    },
    {
      "cell_type": "code",
      "source": [
        "xau = \"DAD\" #mom, son\n",
        "if xau==xau[::-1]: print(\"Xâu đối xứng\")\n",
        "else: print(\"Xâu không đối xứng\")"
      ],
      "metadata": {
        "colab": {
          "base_uri": "https://localhost:8080/"
        },
        "id": "Jq79BJhu4Xe4",
        "outputId": "311381ea-2447-4b16-f1ca-379fb9dc87a3"
      },
      "execution_count": 90,
      "outputs": [
        {
          "output_type": "stream",
          "name": "stdout",
          "text": [
            "Xâu đối xứng\n"
          ]
        }
      ]
    }
  ]
}