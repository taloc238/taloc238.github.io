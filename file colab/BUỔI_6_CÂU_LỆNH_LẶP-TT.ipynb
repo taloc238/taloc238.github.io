{
  "nbformat": 4,
  "nbformat_minor": 0,
  "metadata": {
    "colab": {
      "provenance": []
    },
    "kernelspec": {
      "name": "python3",
      "display_name": "Python 3"
    },
    "language_info": {
      "name": "python"
    }
  },
  "cells": [
    {
      "cell_type": "markdown",
      "source": [
        "**BUỔI 5: CÂU LỆNH LẶP**"
      ],
      "metadata": {
        "id": "TJKXOkqc1V_w"
      }
    },
    {
      "cell_type": "markdown",
      "source": [
        "**Bài tập 5.4:** Máy tính bỏ túi: Viết chương trình cho người dùng nhập vào từ bàn phím hai\n",
        "số a, b và một ký tự ch. Kiểm tra nếu: ch là \"+\" thì thực hiện phép tính a + b và in kết quả lên màn\n",
        "hình, nếu ch là \"–\" thì thực hiện phép tính a – b và in kết quả lên màn hình, nếu ch là \"*\" thì thực hiện\n",
        "phép tính a * b và in kết quả lên màn hình, nếu ch là \"/\" thì thực hiện phép tính a / b và in kết quả lên\n",
        "màn hình, nếu ch là ký tự khác các ký tự trên thì hiển thị ra màn hình ‘ký tự ‘ ch ‘ không phải là một\n",
        "toán tử’."
      ],
      "metadata": {
        "id": "MGnirmEw1zpd"
      }
    },
    {
      "cell_type": "code",
      "execution_count": null,
      "metadata": {
        "colab": {
          "base_uri": "https://localhost:8080/"
        },
        "id": "R0gMDmdf1QXH",
        "outputId": "b900c033-7fc8-482c-98b1-751dd64d620b"
      },
      "outputs": [
        {
          "output_type": "stream",
          "name": "stdout",
          "text": [
            "Nhập vào số a: 3\n",
            "Nhập vào số b: 4\n",
            "Nhập vào toán tử (+,-,*,/): /\n",
            "3 / 4 = 0.75\n"
          ]
        }
      ],
      "source": [
        "# Máy tính bỏ túi\n",
        "a = int(input(\"Nhập vào số a: \"))\n",
        "b = int(input(\"Nhập vào số b: \"))\n",
        "ch = input(\"Nhập vào toán tử (+,-,*,/): \")\n",
        "if ch == \"+\": print(\"{0} + {1} = {2}\".format(a,b,a+b))\n",
        "elif ch == \"-\": print(\"{0} - {1} = {2}\".format(a,b,a-b))\n",
        "elif ch == \"*\": print(\"{0} * {1} = {2}\".format(a,b,a*b))\n",
        "elif ch == \"/\": print(\"{0} / {1} = {2}\".format(a,b,a/b))\n",
        "else: print(\"Bạn nhập sai toán tử, phép tính không thể thực hiện\")"
      ]
    },
    {
      "cell_type": "code",
      "source": [
        "# Ví dụ\n",
        "for i in range(1,10):\n",
        "    print(i)"
      ],
      "metadata": {
        "colab": {
          "base_uri": "https://localhost:8080/"
        },
        "id": "woG_ynf7DOBX",
        "outputId": "7082416d-5657-45f3-d67f-b5c5a8d2c6aa"
      },
      "execution_count": null,
      "outputs": [
        {
          "output_type": "stream",
          "name": "stdout",
          "text": [
            "1\n",
            "2\n",
            "3\n",
            "4\n",
            "5\n",
            "6\n",
            "7\n",
            "8\n",
            "9\n"
          ]
        }
      ]
    },
    {
      "cell_type": "markdown",
      "source": [
        "Nếu không có step: step mặc định là 1"
      ],
      "metadata": {
        "id": "Qi7Gb4fDDudO"
      }
    },
    {
      "cell_type": "code",
      "source": [
        "# Ví dụ\n",
        "for i in range(1,10,2):\n",
        "    print(i)"
      ],
      "metadata": {
        "colab": {
          "base_uri": "https://localhost:8080/"
        },
        "id": "Qjhys3RED2IV",
        "outputId": "5080c51b-2a7c-43da-f081-fae15338b8fe"
      },
      "execution_count": null,
      "outputs": [
        {
          "output_type": "stream",
          "name": "stdout",
          "text": [
            "1\n",
            "3\n",
            "5\n",
            "7\n",
            "9\n"
          ]
        }
      ]
    },
    {
      "cell_type": "markdown",
      "source": [
        "Nếu không có star: star mặc định là 0"
      ],
      "metadata": {
        "id": "JAF4AB5AD6nb"
      }
    },
    {
      "cell_type": "code",
      "source": [
        "# Ví dụ 6.3: Viết chương trình tìm những số chia hết cho 3 trong khoảng từ 1 đến 10\n",
        "m = int(input(\"Nhập giá trị khoảng bắt đầu m = \"))\n",
        "n = int(input(\"Nhập giá trị khoảng kết thuch n = \"))\n",
        "for i in range (m,n+1):\n",
        "    if i % 3 == 0: print(i)"
      ],
      "metadata": {
        "colab": {
          "base_uri": "https://localhost:8080/"
        },
        "id": "nTfYRTlCEIT3",
        "outputId": "f42d77da-cd98-4881-95a2-f5f4b31e9244"
      },
      "execution_count": null,
      "outputs": [
        {
          "output_type": "stream",
          "name": "stdout",
          "text": [
            "Nhập giá trị khoảng bắt đầu m = 100\n",
            "Nhập giá trị khoảng kết thuch n = 150\n",
            "102\n",
            "105\n",
            "108\n",
            "111\n",
            "114\n",
            "117\n",
            "120\n",
            "123\n",
            "126\n",
            "129\n",
            "132\n",
            "135\n",
            "138\n",
            "141\n",
            "144\n",
            "147\n",
            "150\n"
          ]
        }
      ]
    },
    {
      "cell_type": "markdown",
      "source": [
        "***2. Lặp có số lần lặp không biết trước và cấu trúc lặp .***"
      ],
      "metadata": {
        "id": "STBPWymNHGj_"
      }
    },
    {
      "cell_type": "markdown",
      "source": [
        "Cú pháp:\n",
        "\n",
        "while <điều kiện>:\n",
        "\n",
        "                khối lệnh while"
      ],
      "metadata": {
        "id": "QsmCioncHOc-"
      }
    },
    {
      "cell_type": "markdown",
      "source": [
        "if <điều kiện>:\n",
        "\n",
        "        khối lệnh của if"
      ],
      "metadata": {
        "id": "obFCQI8mHZXM"
      }
    },
    {
      "cell_type": "code",
      "source": [
        "k = 1\n",
        "while k<=9:\n",
        "    print(k)\n",
        "    k = k + 1"
      ],
      "metadata": {
        "colab": {
          "base_uri": "https://localhost:8080/"
        },
        "id": "swyphwaBH2Oq",
        "outputId": "7c7ba3a7-fc54-4b40-d571-17c42d526e01"
      },
      "execution_count": null,
      "outputs": [
        {
          "output_type": "stream",
          "name": "stdout",
          "text": [
            "1\n",
            "2\n",
            "3\n",
            "4\n",
            "5\n",
            "6\n",
            "7\n",
            "8\n",
            "9\n"
          ]
        }
      ]
    },
    {
      "cell_type": "markdown",
      "source": [
        "**Ví dụ 6.6:** Viết chương trình tính tích các số nguyên từ 1 đến 6."
      ],
      "metadata": {
        "id": "i_Wu9mecK9Nd"
      }
    },
    {
      "cell_type": "code",
      "source": [
        "# Viết chương trình tính tích các số nguyên từ 1 đến 6.\n",
        "# 1*2*3*4*5*6 --> P = n!\n",
        "x = 1\n",
        "tich = 1\n",
        "while x <= 6:\n",
        "    tich  = tich * x\n",
        "    x = x + 1\n",
        "print(tich)"
      ],
      "metadata": {
        "colab": {
          "base_uri": "https://localhost:8080/"
        },
        "id": "-ty6HOkDK-9f",
        "outputId": "b5babc5a-7a03-416b-f657-9c471ef1ce7b"
      },
      "execution_count": null,
      "outputs": [
        {
          "output_type": "stream",
          "name": "stdout",
          "text": [
            "720\n"
          ]
        }
      ]
    },
    {
      "cell_type": "markdown",
      "source": [
        "**Bài tập 6.1:** Voi ham ăn. Ở Bản Đôn có 2 anh em nhà voi. Voi em tên là VoiE, voi anh tên\n",
        "là VoiA. Voi em luôn muốn mình phải nặng hơn voi anh nên ăn rất nhiều. Hiện tại, VoiE và VoiA\n",
        "có cân nặng tương ứng là E và A (E ≤ A). Vì VoiE ăn nhiều nên trọng lượng của nó tăng gấp 3 lần\n",
        "mỗi năm, còn trọng lượng của VoiA tăng gấp đôi sau mỗi năm. Hỏi sau bao nhiêu năm VoiE sẽ nặng\n",
        "hơn VoiA. Biết rằng VoiE không chấp nhận bằng trọng lượng VoiA"
      ],
      "metadata": {
        "id": "xlrMRqzCokub"
      }
    },
    {
      "cell_type": "code",
      "source": [
        "# Voi ham ăn\n",
        "E = int(input(\"Trọng lương VoiE ban đầu: \"))\n",
        "A = int(input(\"Trọng lương VoiA ban đầu: \"))\n",
        "nam = 0\n",
        "while E <= A:\n",
        "    E = E*3\n",
        "    A = A*2\n",
        "    nam = nam + 1\n",
        "print(nam)"
      ],
      "metadata": {
        "colab": {
          "base_uri": "https://localhost:8080/"
        },
        "id": "UgzbYhlPomkV",
        "outputId": "5874dfcd-d066-48f2-df40-5ab667e30ed2"
      },
      "execution_count": 7,
      "outputs": [
        {
          "output_type": "stream",
          "name": "stdout",
          "text": [
            "Trọng lương VoiE ban đầu: 4\n",
            "Trọng lương VoiA ban đầu: 7\n",
            "2\n"
          ]
        }
      ]
    },
    {
      "cell_type": "markdown",
      "source": [
        "**Bài tập 6.3: **Số hoàn hảo: Một số tự nhiên n được gọi là một số hoàn hảo nếu tổng các ước\n",
        "dương của n bằng 2n. Hãy viết chương trình nhập vào 1 số tự nhiên n, hãy cho biết n có là số hoàn\n",
        "hảo hay không ?"
      ],
      "metadata": {
        "id": "n5IUDbySsyxY"
      }
    },
    {
      "cell_type": "code",
      "source": [
        "# Số hoàn hảo\n",
        "n = int(input(\"Nhập vào số n: \"))\n",
        "tonguoc = 0\n",
        "for uoc in range(1,n+1):\n",
        "    if n % uoc == 0:\n",
        "        tonguoc = tonguoc + uoc\n",
        "if tonguoc == 2*n: print(n,\"là số hoàn hảo\")\n",
        "else: print(n,\"không là số hoàn hảo\")\n",
        "#print(tonguoc)"
      ],
      "metadata": {
        "colab": {
          "base_uri": "https://localhost:8080/"
        },
        "id": "NyBk3h1Tttgp",
        "outputId": "a4618bd5-4add-4071-a411-b2f8b7a8b23e"
      },
      "execution_count": 16,
      "outputs": [
        {
          "output_type": "stream",
          "name": "stdout",
          "text": [
            "Nhập vào số n: 28\n",
            "28 là số hoàn hảo\n"
          ]
        }
      ]
    }
  ]
}