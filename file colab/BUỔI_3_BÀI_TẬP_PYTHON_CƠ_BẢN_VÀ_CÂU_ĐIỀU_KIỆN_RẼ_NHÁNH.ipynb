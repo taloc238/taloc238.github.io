{
  "nbformat": 4,
  "nbformat_minor": 0,
  "metadata": {
    "colab": {
      "provenance": []
    },
    "kernelspec": {
      "name": "python3",
      "display_name": "Python 3"
    },
    "language_info": {
      "name": "python"
    }
  },
  "cells": [
    {
      "cell_type": "markdown",
      "source": [
        "**BUỔI 3: BÀI TẬP PYTHON CƠ BẢN VÀ CÂU ĐIỀU KIỆN RẼ NHÁNH**"
      ],
      "metadata": {
        "id": "ymSyt9ZHR0Tu"
      }
    },
    {
      "cell_type": "markdown",
      "source": [
        "***I. BÀI TẬP PYTHON CƠ BẢN***"
      ],
      "metadata": {
        "id": "Wb3LJhxGR4Uq"
      }
    },
    {
      "cell_type": "markdown",
      "source": [
        "Bài tập luyện tập"
      ],
      "metadata": {
        "id": "9hpkSgY0V_ya"
      }
    },
    {
      "cell_type": "markdown",
      "source": [
        "**Bài tập 4.1:** Tính tuổi: Viết chương trình nhập vào một số tương ứng là năm. Xuất ra\n",
        "màn hình năm vừa nhập và tuổi của một người tương ứng với năm vừa nhập đó."
      ],
      "metadata": {
        "id": "elz6oJBGWPkU"
      }
    },
    {
      "cell_type": "code",
      "execution_count": 14,
      "metadata": {
        "colab": {
          "base_uri": "https://localhost:8080/"
        },
        "id": "NVtHgTn3RrhM",
        "outputId": "06e0e24a-672f-4854-8fec-0c8fc0f385ff"
      },
      "outputs": [
        {
          "output_type": "stream",
          "name": "stdout",
          "text": [
            "1990\n",
            "Bạn vừa nhập vào năm: 1990\n",
            "Tuổi của bạn năm nay là: 33 tuổi\n"
          ]
        }
      ],
      "source": [
        "# Tính tuổi\n",
        "tuoi = int(input()) #int()\n",
        "namtuoi = 2023 - tuoi\n",
        "print(\"Bạn vừa nhập vào năm:\",tuoi)\n",
        "print(\"Tuổi của bạn năm nay là:\",namtuoi,'tuổi') #type() --> Định dạng --> Hàm kiểm tra kiểu dữ liệu Python"
      ]
    },
    {
      "cell_type": "code",
      "source": [
        "# Đổi tiền: 1 USD ~ 25 VNĐ\n",
        "tien = int(input(\"Nhập vào tiền đô: \"))\n",
        "doitien = tien*25\n",
        "print(doitien)\n",
        "print(type(tien))\n",
        "print(type(doitien))"
      ],
      "metadata": {
        "colab": {
          "base_uri": "https://localhost:8080/"
        },
        "id": "qfw1d75jZPdr",
        "outputId": "ceab3ba0-9309-4898-cd49-63845a9ca04a"
      },
      "execution_count": 13,
      "outputs": [
        {
          "output_type": "stream",
          "name": "stdout",
          "text": [
            "Nhập vào tiền đô: 2\n",
            "50\n",
            "<class 'int'>\n",
            "<class 'int'>\n"
          ]
        }
      ]
    },
    {
      "cell_type": "markdown",
      "source": [
        "***Bài tập 4.2***: Tính chỉ số BMI: Chỉ số BMI (Body Mass Index) hay còn gọi là chỉ số\n",
        "khối cơ thể, chỉ số thể trọng, là một công cụ thường được sử dụng để đo lượng mỡ trong cơ\n",
        "thể. Chỉ số BMI chuẩn được tính dựa trên chiều cao và cân nặng, áp dụng cho nam và nữ\n",
        "trưởng thành.\n",
        "Viết chương trình cho người dùng nhập vào hai số thực là cân nặng và chiều cao, hãy\n",
        "tính chỉ số BMI của người đó theo công thức sau:\n",
        "𝐵𝑀𝐼 =𝑊/(𝐻 × 𝐻)\n",
        "Trong đó: W(là cân nặng), H(là chiều cao)."
      ],
      "metadata": {
        "id": "5dNOP7LmbBk6"
      }
    },
    {
      "cell_type": "code",
      "source": [
        "# Tính chỉ số BMI\n",
        "W = float(input(\"Bạn nhập vào cân nặng: \"))\n",
        "H = float(input(\"Bạn nhập vào chiều cao: \"))\n",
        "BMI = W/(H*H)\n",
        "print(\"Chỉ số BMI bạn vừa nhập là:\",round(BMI,2)) # ceil(), floor()\n",
        "# Mở rộng bài\n",
        "import math\n",
        "print(\"Chỉ số BMI bạn vừa nhập là:\",math.floor(BMI)) # ceil(), floor()\n",
        "print(\"Chỉ số BMI bạn vừa nhập là:\",math.ceil(BMI)) # ceil(), floor()"
      ],
      "metadata": {
        "colab": {
          "base_uri": "https://localhost:8080/"
        },
        "id": "h4z6hAbbbgG4",
        "outputId": "6e15f9ae-a739-4228-ff8c-7b8a276bd702"
      },
      "execution_count": 19,
      "outputs": [
        {
          "output_type": "stream",
          "name": "stdout",
          "text": [
            "Bạn nhập vào cân nặng: 60\n",
            "Bạn nhập vào chiều cao: 1.68\n",
            "Chỉ số BMI bạn vừa nhập là: 21.26\n",
            "Chỉ số BMI bạn vừa nhập là: 21\n",
            "Chỉ số BMI bạn vừa nhập là: 22\n"
          ]
        }
      ]
    },
    {
      "cell_type": "markdown",
      "source": [
        "Hàm **round()** cho phép người lập trình làm tròn dữ liệu\n",
        "Cú pháp: round(<biến làm tròn>,<số lượng chữ số muốn làm tròn>)\n",
        "\n",
        "## None, True, False"
      ],
      "metadata": {
        "id": "cP25dXTdcn-x"
      }
    },
    {
      "cell_type": "markdown",
      "source": [
        "***Bài tập 4.3:*** Tiền bán hoa. Mảnh vườn trồng cúc đại đoá có chiều rộng M mét, chiều\n",
        "dài N mét. Mỗi mét vuông trồng được một khóm hoa. Mỗi khóm hoa bán được K đồng. Em\n",
        "hãy viết chương trình để đưa ra màn hình tổng số tiền thu được khi bán hết hoa trong vườn.\n",
        "Gợi ý: Vì mỗi mét vuông trồng được một khóm hoa nên ta cần tính diện tích của mảnh vườn\n",
        "rồi nhân diện tích này với số tiền mỗi khóm hoa thu được."
      ],
      "metadata": {
        "id": "3j9SmXPmfAQL"
      }
    },
    {
      "cell_type": "code",
      "source": [
        "M = float(input(\"Nhập chiều rộng của mảnh vườn (m): \"))\n",
        "N = float(input(\"Nhập chiều dài của mảnh vườn (m): \"))\n",
        "K = float(input(\"Nhập giá bán của mỗi khóm hoa (đồng): \"))\n",
        "tong_tien_thu_duoc = M * N * K\n",
        "print(\"Tổng số tiền thu được khi bán hết hoa trong vườn là:\",int(tong_tien_thu_duoc), \"đồng\")"
      ],
      "metadata": {
        "colab": {
          "base_uri": "https://localhost:8080/"
        },
        "id": "0vx67CmIgPCN",
        "outputId": "eb323dbd-c19d-4b77-dbaf-79e4208ec9e2"
      },
      "execution_count": 22,
      "outputs": [
        {
          "output_type": "stream",
          "name": "stdout",
          "text": [
            "Nhập chiều rộng của mảnh vườn (m): 5\n",
            "Nhập chiều dài của mảnh vườn (m): 18\n",
            "Nhập giá bán của mỗi khóm hoa (đồng): 85000\n",
            "Tổng số tiền thu được khi bán hết hoa trong vườn là: 7650000 đồng\n"
          ]
        }
      ]
    },
    {
      "cell_type": "code",
      "source": [
        "m=float(input(\"nhap chieu rong manh vuon: \"))\n",
        "n=float(input(\"Nhap chieu dai manh vuon: \"))\n",
        "dientich=m*n\n",
        "k=int(input(\"so tien moi khom hoa la:\"))\n",
        "sotien=k*dientich\n",
        "print(\"So tien ban hoa la:\",int(sotien))"
      ],
      "metadata": {
        "colab": {
          "base_uri": "https://localhost:8080/"
        },
        "id": "0ZFUQvWLgraJ",
        "outputId": "63767621-fc96-453f-9c0a-07699811183c"
      },
      "execution_count": 23,
      "outputs": [
        {
          "output_type": "stream",
          "name": "stdout",
          "text": [
            "nhap chieu rong manh vuon: 5\n",
            "Nhap chieu dai manh vuon: 18\n",
            "so tien moi khom hoa la:85000\n",
            "So tien ban hoa la: 7650000\n"
          ]
        }
      ]
    },
    {
      "cell_type": "code",
      "source": [
        "m=float(input(\"nhap chieu rong manh vuon: \"))\n",
        "n=float(input(\"Nhap chieu dai manh vuon: \"))\n",
        "k=int(input(\"so tien moi khom hoa la:\"))\n",
        "print(\"So tien ban hoa la:\",int(m*n*k))"
      ],
      "metadata": {
        "colab": {
          "base_uri": "https://localhost:8080/"
        },
        "id": "xTV7_FvShr6K",
        "outputId": "3287d698-ca2d-4c1e-ecf5-ded663c286ba"
      },
      "execution_count": 24,
      "outputs": [
        {
          "output_type": "stream",
          "name": "stdout",
          "text": [
            "nhap chieu rong manh vuon: 5\n",
            "Nhap chieu dai manh vuon: 18\n",
            "so tien moi khom hoa la:85000\n",
            "So tien ban hoa la: 7650000\n"
          ]
        }
      ]
    },
    {
      "cell_type": "markdown",
      "source": [
        "***Bài tập 4.4***: Diện tích và Thể tích hình cầu. Viết chương trình cho người dùng nhập\n",
        "vào bán kính hình cầu R, tính và in ra màn hình diện tích, thể tích của hình cầu đó.\n",
        "Hướng dẫn: S = 4πR2 và V = (4/3)πR3."
      ],
      "metadata": {
        "id": "qebmV65PkZQm"
      }
    },
    {
      "cell_type": "code",
      "source": [
        "R = float(input(\"Nhập bán kính hình cầu: \"))\n",
        "_PI = 3.14159 #3,141592653589793238462643383279\n",
        "S = 4*_PI*(R**2)\n",
        "print(\"Diện tích hình cầu có bán kính\",int(R),\"mét là:\",S,\"mét vuông\")"
      ],
      "metadata": {
        "colab": {
          "base_uri": "https://localhost:8080/"
        },
        "id": "npdZsySgkio4",
        "outputId": "2f5a6c74-48a2-4d9f-a83a-5277b31b9017"
      },
      "execution_count": 42,
      "outputs": [
        {
          "output_type": "stream",
          "name": "stdout",
          "text": [
            "Nhập bán kính hình cầu: 2\n",
            "Diện tích hình cầu có bán kính 2 mét là: 50.26544 mét vuông\n"
          ]
        }
      ]
    },
    {
      "cell_type": "markdown",
      "source": [
        "**BÀI 5: CÂU LỆNH RẼ NHÁNH**"
      ],
      "metadata": {
        "id": "I5cSUJQiqFVa"
      }
    },
    {
      "cell_type": "markdown",
      "source": [
        "1. Cấu trúc rẽ nhánh dạng thiếu.\n",
        "\n",
        "Cú pháp: if <điều kiện>: \n",
        "            <câu lệnh hoặc khối lệnh>"
      ],
      "metadata": {
        "id": "rY4kSLx0rK9l"
      }
    },
    {
      "cell_type": "code",
      "source": [
        "m = 9\n",
        "if m > 0:\n",
        "    print(m,\"là số dương\")\n",
        "    print(\"Điều kiện đúng\")"
      ],
      "metadata": {
        "colab": {
          "base_uri": "https://localhost:8080/"
        },
        "id": "XcImRRkNrKHc",
        "outputId": "fcb16e35-78d6-41dc-e7d6-ca3fef269056"
      },
      "execution_count": 51,
      "outputs": [
        {
          "output_type": "stream",
          "name": "stdout",
          "text": [
            "9 là số dương\n",
            "Điều kiện đúng\n"
          ]
        }
      ]
    },
    {
      "cell_type": "code",
      "source": [
        "m = -9\n",
        "if m > 0:\n",
        "    print(m,\"là số dương\")\n",
        "print(\"Điều kiện sai nên thoát chương trình\")"
      ],
      "metadata": {
        "colab": {
          "base_uri": "https://localhost:8080/"
        },
        "id": "p8GREAZbsqKS",
        "outputId": "957fb4c0-a0e0-4a5a-f16b-6c9e4b2c333c"
      },
      "execution_count": 48,
      "outputs": [
        {
          "output_type": "stream",
          "name": "stdout",
          "text": [
            "Điều kiện sai nên thoát chương trình\n"
          ]
        }
      ]
    }
  ]
}