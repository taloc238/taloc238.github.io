{
  "nbformat": 4,
  "nbformat_minor": 0,
  "metadata": {
    "colab": {
      "provenance": []
    },
    "kernelspec": {
      "name": "python3",
      "display_name": "Python 3"
    },
    "language_info": {
      "name": "python"
    }
  },
  "cells": [
    {
      "cell_type": "markdown",
      "source": [
        "**BUỔI 11 - CHƯƠNG TRÌNH CON - THƯ VIỆN CÁC CHƯƠNG TRÌNH CON**"
      ],
      "metadata": {
        "id": "yOCpsYaW_Ve7"
      }
    },
    {
      "cell_type": "code",
      "execution_count": 10,
      "metadata": {
        "colab": {
          "base_uri": "https://localhost:8080/"
        },
        "id": "ZNLJ7Duc-5ZD",
        "outputId": "aabe3cf1-5672-4083-913e-3b9b3dcc4ce1"
      },
      "outputs": [
        {
          "output_type": "stream",
          "name": "stdout",
          "text": [
            "Nhập k: 4\n",
            "Nhập n: 7\n",
            "24 5040\n",
            "840.0\n"
          ]
        }
      ],
      "source": [
        "# Chỉnh hợp chập 2 của 3 = 6\n",
        "# Chỉnh hợp chập 4 của 7 = 840\n",
        "k = int(input(\"Nhập k: \"))\n",
        "n = int(input(\"Nhập n: \"))\n",
        "gt_k = gt_n = gt_n_k = 1\n",
        "for i in range(1,k+1):\n",
        "    gt_k = gt_k * i\n",
        "for j in range(1,n+1):\n",
        "    gt_n = gt_n * j\n",
        "for u in range(1,n-k+1):\n",
        "    gt_n_k = gt_n_k * u\n",
        "Akn = gt_n/(gt_n_k)\n",
        "print(gt_k,gt_n)\n",
        "print(Akn)"
      ]
    },
    {
      "cell_type": "markdown",
      "source": [
        "Chương trình con là dãy các lệnh mô tả một số thao tác nhất định và có thể được thực thi từ nhiều vị trí trong chương trình"
      ],
      "metadata": {
        "id": "wdhYShCHHCIB"
      }
    },
    {
      "cell_type": "markdown",
      "source": [
        "***2. Cách xây dựng chương trình con (hàm).***"
      ],
      "metadata": {
        "id": "ms7vKRYTHc0R"
      }
    },
    {
      "cell_type": "markdown",
      "source": [
        "def -- define"
      ],
      "metadata": {
        "id": "u4nJZy6FIOiD"
      }
    },
    {
      "cell_type": "markdown",
      "source": [
        "def <tên chương trình con>(<tham số 1, tham số 2,...tham số n>):\n",
        "\n",
        "     <THÂN CHƯƠNG TRÌNH CON - KHỐI LỆNH CTC>  \n",
        "     return <giá trị trả về>"
      ],
      "metadata": {
        "id": "HHbEVfstHz3J"
      }
    },
    {
      "cell_type": "markdown",
      "source": [
        "*Ví dụ 7.1:* Xây dựng chương trình con tính diện tích hình chữ nhật. Với tham số đầu vào là độ lớn hai cạnh A và B, giá trị trả về của hàm là diện tích của hình chữ nhật đó."
      ],
      "metadata": {
        "id": "mMHrulmSI42B"
      }
    },
    {
      "cell_type": "code",
      "source": [
        "def ten():\n",
        "    return (input(\"Bạn hãy nhập tên: \"))\n",
        "ten()"
      ],
      "metadata": {
        "colab": {
          "base_uri": "https://localhost:8080/",
          "height": 53
        },
        "id": "OmZk5flwK-Ch",
        "outputId": "e67d5a4c-2f23-4a34-9256-d0e8bac74908"
      },
      "execution_count": 23,
      "outputs": [
        {
          "name": "stdout",
          "output_type": "stream",
          "text": [
            "Bạn hãy nhập tên: Nam\n"
          ]
        },
        {
          "output_type": "execute_result",
          "data": {
            "text/plain": [
              "'Nam'"
            ],
            "application/vnd.google.colaboratory.intrinsic+json": {
              "type": "string"
            }
          },
          "metadata": {},
          "execution_count": 23
        }
      ]
    },
    {
      "cell_type": "code",
      "source": [
        "def dthcm(a,b):\n",
        "    dt = a*b\n",
        "    return dt\n",
        "#a = int(input(\"Nhập a: \"))\n",
        "#b = int(input(\"Nhập b: \"))\n",
        "print(dthcm(5,6))"
      ],
      "metadata": {
        "colab": {
          "base_uri": "https://localhost:8080/"
        },
        "id": "W09K8uQiJB6A",
        "outputId": "9f1d93a4-cc26-49d1-cb16-00ce0ab13b2b"
      },
      "execution_count": 15,
      "outputs": [
        {
          "output_type": "stream",
          "name": "stdout",
          "text": [
            "30\n"
          ]
        }
      ]
    },
    {
      "cell_type": "code",
      "source": [
        "ten()"
      ],
      "metadata": {
        "colab": {
          "base_uri": "https://localhost:8080/",
          "height": 53
        },
        "id": "hQX8EamfL-Zr",
        "outputId": "5da9303b-f315-468f-ee7e-1b560e91e824"
      },
      "execution_count": 24,
      "outputs": [
        {
          "name": "stdout",
          "output_type": "stream",
          "text": [
            "Bạn hãy nhập tên: Nữ\n"
          ]
        },
        {
          "output_type": "execute_result",
          "data": {
            "text/plain": [
              "'Nữ'"
            ],
            "application/vnd.google.colaboratory.intrinsic+json": {
              "type": "string"
            }
          },
          "metadata": {},
          "execution_count": 24
        }
      ]
    },
    {
      "cell_type": "code",
      "source": [
        "dt = dthcm(2,3)\n",
        "print(dt)"
      ],
      "metadata": {
        "colab": {
          "base_uri": "https://localhost:8080/"
        },
        "id": "hiSYJj9LMH0a",
        "outputId": "2ba63d85-f0d3-4c72-948f-d48ee3da6183"
      },
      "execution_count": 28,
      "outputs": [
        {
          "output_type": "stream",
          "name": "stdout",
          "text": [
            "6\n"
          ]
        }
      ]
    },
    {
      "cell_type": "code",
      "source": [
        "lst=[2,5,7,3,6]\n",
        "print(max(lst))"
      ],
      "metadata": {
        "colab": {
          "base_uri": "https://localhost:8080/"
        },
        "id": "HDp6rCAfMOuy",
        "outputId": "38d8f89f-b482-43af-fd5a-7294359a3642"
      },
      "execution_count": 27,
      "outputs": [
        {
          "output_type": "stream",
          "name": "stdout",
          "text": [
            "7\n"
          ]
        }
      ]
    },
    {
      "cell_type": "markdown",
      "source": [
        "*3. Sử dụng chương trình con (hàm)*\n",
        "\n",
        "<tên biến> = <tên chtrinh con>(tham số)"
      ],
      "metadata": {
        "id": "dumsbUg9NOjx"
      }
    },
    {
      "cell_type": "markdown",
      "source": [
        "4. Truyền tham số cho chương trình con (hàm)."
      ],
      "metadata": {
        "id": "m8r_uIj6NnuF"
      }
    },
    {
      "cell_type": "markdown",
      "source": [
        "*4.1. Tham số với giá trị bắt buộc*"
      ],
      "metadata": {
        "id": "xM9RX5NaON5p"
      }
    },
    {
      "cell_type": "markdown",
      "source": [
        "Tham số bắt buộc là các tham số yêu cầu chúng ta buộc phải truyền vào trong lời gọi hàm theo đúng thứ tự nếu không chương trình dịch sẽ thông báo lỗi. Để tránh trường hợp nhầm lẫn, chúng ta cần quan tâm đến thứ tự của các tham số truyền vào trong lời gọi hàm và nên kết nối chính xác với phần định nghĩa hàm."
      ],
      "metadata": {
        "id": "Iz4kcA6sa3aB"
      }
    },
    {
      "cell_type": "code",
      "source": [
        "def dthcm(a,b):\n",
        "    dt = a*b\n",
        "    return dt\n",
        "#a = int(input(\"Nhập a: \"))\n",
        "#b = int(input(\"Nhập b: \"))\n",
        "print(dthcm(6,5))"
      ],
      "metadata": {
        "colab": {
          "base_uri": "https://localhost:8080/"
        },
        "id": "ZZne_Vo0OUNz",
        "outputId": "d03fc6e6-5b84-48d8-f97c-3b318d66e071"
      },
      "execution_count": 30,
      "outputs": [
        {
          "output_type": "stream",
          "name": "stdout",
          "text": [
            "30\n"
          ]
        }
      ]
    },
    {
      "cell_type": "markdown",
      "source": [
        "*4.2. Tham số với giá trị mặc định.*"
      ],
      "metadata": {
        "id": "XRopm--LOyKg"
      }
    },
    {
      "cell_type": "markdown",
      "source": [
        "Tham số là dữ liệu đầu vào cho một hàm, trong nhiều trường hợp người dùng không\n",
        "truyền tham số trong lời gọi hàm, điều này dẫn tới chương trình chạy bị lỗi. Do đó, nhằm đảm bảo một hàm luôn thực thi bình thường (ngay cả khi người dùng không truyền tham số vàokhi gọi hàm), chúng ta có thể thiết lập giá trị mặc định cho các tham số đầu vào trong quá\n",
        "trình xây dựng hàm."
      ],
      "metadata": {
        "id": "je-ykHUfasSg"
      }
    },
    {
      "cell_type": "markdown",
      "source": [
        "Ví dụ 7.4: Xây dựng hàm tính diện tích hình cầu với tham số đầu vào là bán kính hình cầu,\n",
        "đặt mặc định bằng không."
      ],
      "metadata": {
        "id": "AeUCgEW-PKrC"
      }
    },
    {
      "cell_type": "code",
      "source": [
        "def dthc(r = 0):\n",
        "    PI = 3.14159\n",
        "    dt_hc = 4*PI*r*r\n",
        "    return dt_hc"
      ],
      "metadata": {
        "id": "ucJzzbdoPPCd"
      },
      "execution_count": 31,
      "outputs": []
    },
    {
      "cell_type": "code",
      "source": [
        "dthcm(3,4)"
      ],
      "metadata": {
        "colab": {
          "base_uri": "https://localhost:8080/"
        },
        "id": "F8Y9zAsrPrjB",
        "outputId": "04076e4f-b3cc-46c2-8544-b9f0c380a266"
      },
      "execution_count": 33,
      "outputs": [
        {
          "output_type": "execute_result",
          "data": {
            "text/plain": [
              "12"
            ]
          },
          "metadata": {},
          "execution_count": 33
        }
      ]
    },
    {
      "cell_type": "code",
      "source": [
        "dthc()"
      ],
      "metadata": {
        "colab": {
          "base_uri": "https://localhost:8080/"
        },
        "id": "8sux8SwZP3Y5",
        "outputId": "899a0b2d-19d5-4158-bd39-310a180c400c"
      },
      "execution_count": 34,
      "outputs": [
        {
          "output_type": "execute_result",
          "data": {
            "text/plain": [
              "0.0"
            ]
          },
          "metadata": {},
          "execution_count": 34
        }
      ]
    },
    {
      "cell_type": "code",
      "source": [
        "dthc(5)"
      ],
      "metadata": {
        "colab": {
          "base_uri": "https://localhost:8080/"
        },
        "id": "jamoow7rP7xB",
        "outputId": "6f2b8af6-e386-4e01-9038-ca0141d55e92"
      },
      "execution_count": 36,
      "outputs": [
        {
          "output_type": "execute_result",
          "data": {
            "text/plain": [
              "314.159"
            ]
          },
          "metadata": {},
          "execution_count": 36
        }
      ]
    },
    {
      "cell_type": "markdown",
      "source": [
        "*4.4. Biến toàn cục, biến cục bộ.*"
      ],
      "metadata": {
        "id": "ojJl09hXQlB0"
      }
    },
    {
      "cell_type": "markdown",
      "source": [
        "*Biến cục bộ (local variables).*\n",
        "Biến cục bộ là biến được định nghĩa trong một chương trình con. Phạm vi sử dụng của\n",
        "chúng chỉ trong chương trình con đó.\n",
        "\n",
        "*Biến toàn cục (global variables).*\n",
        "Biến toàn cục là các biến được định nghĩa bên ngoài chương trình con. Phạm vi sử\n",
        "dụng ở mọi vị trí trong chương trình (cả bên trong và ngoài chương trình con)."
      ],
      "metadata": {
        "id": "n1zO9n72Qn3I"
      }
    },
    {
      "cell_type": "markdown",
      "source": [
        "**Viết hàm tính tổng k số hạng**"
      ],
      "metadata": {
        "id": "jO2Y2t9hRSQ4"
      }
    },
    {
      "cell_type": "code",
      "source": [
        "def tt():\n",
        "    k = 2\n",
        "    n = 5\n",
        "    while k<=n:\n",
        "        k=k*n\n",
        "    return k\n",
        "tt()"
      ],
      "metadata": {
        "colab": {
          "base_uri": "https://localhost:8080/"
        },
        "id": "qfN3VGVkRNMY",
        "outputId": "cb743635-75cd-4976-bbfd-0cb4515ab086"
      },
      "execution_count": 49,
      "outputs": [
        {
          "output_type": "execute_result",
          "data": {
            "text/plain": [
              "10"
            ]
          },
          "metadata": {},
          "execution_count": 49
        }
      ]
    },
    {
      "cell_type": "markdown",
      "source": [
        "**B. Lập trình.**\n",
        "*Bài tập 7.1: Tìm min.*\n",
        "Viết hàm tìm giá trị nhỏ nhất của 3 số nguyên được nhập vào từ bàn phím."
      ],
      "metadata": {
        "id": "jgAvcjK7TsXw"
      }
    },
    {
      "cell_type": "code",
      "source": [
        "a,b,c = list(map(int,input(\"Nhập a,b,c cách nhau 1 khoảng trắng: \").split()))\n",
        "if a>b and a>c: print(a)\n",
        "elif b>a and b>c: print(b)\n",
        "else: print(c)"
      ],
      "metadata": {
        "colab": {
          "base_uri": "https://localhost:8080/"
        },
        "id": "iD8wlc0JTxmw",
        "outputId": "4cf603d9-76f1-4d57-a174-754de07548db"
      },
      "execution_count": 51,
      "outputs": [
        {
          "output_type": "stream",
          "name": "stdout",
          "text": [
            "Nhập a,b,c cách nhau 1 khoảng trắng: 3 9 5\n",
            "9\n"
          ]
        }
      ]
    },
    {
      "cell_type": "code",
      "source": [
        "a,b,c = list(map(int,input(\"Nhập a,b,c cách nhau 1 khoảng trắng: \").split()))\n",
        "mx = a\n",
        "if b > mx: mx = b\n",
        "elif c > mx: mx = c\n",
        "print(mx)"
      ],
      "metadata": {
        "colab": {
          "base_uri": "https://localhost:8080/"
        },
        "id": "QuyrOTbmUYfp",
        "outputId": "dce9624d-78b6-455b-9634-86ebea1f8897"
      },
      "execution_count": 53,
      "outputs": [
        {
          "output_type": "stream",
          "name": "stdout",
          "text": [
            "Nhập a,b,c cách nhau 1 khoảng trắng: 3 8 6\n",
            "8\n"
          ]
        }
      ]
    },
    {
      "cell_type": "code",
      "source": [
        "def sln(a,b,c):\n",
        "    mx = a\n",
        "    if b>mx: return b\n",
        "    elif c>mx: return c\n",
        "    return mx\n",
        "sln(11,8,16)"
      ],
      "metadata": {
        "colab": {
          "base_uri": "https://localhost:8080/"
        },
        "id": "pDJ3f9AAVcak",
        "outputId": "7796d512-57e1-4545-f137-f6617b2c9426"
      },
      "execution_count": 56,
      "outputs": [
        {
          "output_type": "execute_result",
          "data": {
            "text/plain": [
              "16"
            ]
          },
          "metadata": {},
          "execution_count": 56
        }
      ]
    },
    {
      "cell_type": "code",
      "source": [
        "def maxx(m,*lst):\n",
        "    mx = m\n",
        "    for i in lst:\n",
        "        if i>mx: mx=i\n",
        "    return mx\n",
        "maxx(1,2,3,4,5,6,7,8,8,9,11)"
      ],
      "metadata": {
        "colab": {
          "base_uri": "https://localhost:8080/"
        },
        "id": "kxo_4-Q0WBn5",
        "outputId": "c461d064-027d-4e59-950c-7bf05b226c51"
      },
      "execution_count": 61,
      "outputs": [
        {
          "output_type": "execute_result",
          "data": {
            "text/plain": [
              "11"
            ]
          },
          "metadata": {},
          "execution_count": 61
        }
      ]
    },
    {
      "cell_type": "code",
      "source": [
        "ls = [1,2,3,4,5,6,7,8,8,9,11]\n",
        "print(max(ls))"
      ],
      "metadata": {
        "colab": {
          "base_uri": "https://localhost:8080/"
        },
        "id": "PtIORXM3Wdap",
        "outputId": "e035997a-0183-4e02-c1a4-9d324604f4be"
      },
      "execution_count": 57,
      "outputs": [
        {
          "output_type": "stream",
          "name": "stdout",
          "text": [
            "11\n"
          ]
        }
      ]
    },
    {
      "cell_type": "markdown",
      "source": [
        "*Bài tập 7.2: Tổng hoán vị*.\n",
        "Viết hàm tính tổng sau: S = 1! + 2! + … + n!, với n là số nguyên dương nhập vào từ bàn phím"
      ],
      "metadata": {
        "id": "gUk95_55YIno"
      }
    },
    {
      "cell_type": "code",
      "source": [
        "def thv(n):\n",
        "    gt=1\n",
        "    thv = 0\n",
        "    for i in range(1,n+1):\n",
        "        gt=gt*i\n",
        "        thv = thv + gt\n",
        "    return thv\n",
        "thv(5)"
      ],
      "metadata": {
        "colab": {
          "base_uri": "https://localhost:8080/"
        },
        "id": "9EZa0DfrYK94",
        "outputId": "4fef1e86-b155-4a5b-f3ee-4eb2175c7e77"
      },
      "execution_count": 64,
      "outputs": [
        {
          "output_type": "execute_result",
          "data": {
            "text/plain": [
              "153"
            ]
          },
          "metadata": {},
          "execution_count": 64
        }
      ]
    }
  ]
}