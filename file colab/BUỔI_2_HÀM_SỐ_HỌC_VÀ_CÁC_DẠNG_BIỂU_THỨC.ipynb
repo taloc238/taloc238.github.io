{
  "nbformat": 4,
  "nbformat_minor": 0,
  "metadata": {
    "colab": {
      "provenance": []
    },
    "kernelspec": {
      "name": "python3",
      "display_name": "Python 3"
    },
    "language_info": {
      "name": "python"
    }
  },
  "cells": [
    {
      "cell_type": "markdown",
      "source": [
        "**BUỔI SỐ 2: BÀI 3: HÀM SỐ HỌC VÀ CÁC DẠNG BIỂU THỨC**"
      ],
      "metadata": {
        "id": "vwEPxK7BtpAg"
      }
    },
    {
      "cell_type": "markdown",
      "source": [
        "1. Hàm số học chuẩn."
      ],
      "metadata": {
        "id": "yIjEDZTuzW0S"
      }
    },
    {
      "cell_type": "code",
      "execution_count": 6,
      "metadata": {
        "colab": {
          "base_uri": "https://localhost:8080/"
        },
        "id": "suQtaUvTtkpc",
        "outputId": "107afadb-279a-4eb4-f043-a70c69602203"
      },
      "outputs": [
        {
          "output_type": "stream",
          "name": "stdout",
          "text": [
            "25\n",
            "25\n",
            "4\n"
          ]
        }
      ],
      "source": [
        "# Hàm số học lũy thừa\n",
        "#import math\n",
        "A = 2\n",
        "B = 5\n",
        "print(B**A)\n",
        "print(pow(5,2))\n",
        "#print(math.sqrt(25))\n",
        "print(abs(-4))"
      ]
    },
    {
      "cell_type": "markdown",
      "source": [
        "2. Biểu thức trong Python."
      ],
      "metadata": {
        "id": "xueu6vhLzaed"
      }
    },
    {
      "cell_type": "code",
      "source": [
        "# Toán tử cơ bản\n",
        "# Phép cộng - trừ - nhân - chia:\n",
        "A = 5\n",
        "B = 3\n",
        "print(B-A)\n",
        "print(B+A)\n",
        "print(B*A)\n",
        "print(B/A)\n",
        "\n",
        "# Toán tử khác\n",
        "print(A/B)\n",
        "print(A//B)\n",
        "print(A%B)\n",
        "print(A**B)"
      ],
      "metadata": {
        "colab": {
          "base_uri": "https://localhost:8080/"
        },
        "id": "xtX_OzEMzmLu",
        "outputId": "04a4c1a3-f5f4-4e39-fb28-b17b2e212fd0"
      },
      "execution_count": 17,
      "outputs": [
        {
          "output_type": "stream",
          "name": "stdout",
          "text": [
            "-2\n",
            "8\n",
            "15\n",
            "0.6\n",
            "1.6666666666666667\n",
            "1\n",
            "2\n",
            "125\n"
          ]
        }
      ]
    },
    {
      "cell_type": "code",
      "source": [
        "#Phép so sánh\n",
        "A = 6\n",
        "B = 7\n",
        "C = 6\n",
        "print(A>B)\n",
        "print(A<B)\n",
        "print(A==B)\n",
        "print(A==C)\n",
        "print(A is B)\n",
        "print(A is C)\n",
        "print(A != C)"
      ],
      "metadata": {
        "colab": {
          "base_uri": "https://localhost:8080/"
        },
        "id": "gOhRlPrH1k6a",
        "outputId": "fca2bf94-ba36-4a26-98d4-503e1f82973d"
      },
      "execution_count": 28,
      "outputs": [
        {
          "output_type": "stream",
          "name": "stdout",
          "text": [
            "False\n",
            "True\n",
            "False\n",
            "True\n",
            "False\n",
            "True\n",
            "False\n"
          ]
        }
      ]
    },
    {
      "cell_type": "markdown",
      "source": [
        "Bài tập 3.1: Viết biểu thức trong lập trình Python cho những biểu thức toán học sau: X = (a+b)^2\n",
        "\n",
        "\n",
        "Y = a^2 – 2ab + b^2"
      ],
      "metadata": {
        "id": "-VxTTLWQ21ZJ"
      }
    },
    {
      "cell_type": "code",
      "source": [
        "a = 5\n",
        "b = 3\n",
        "X = (a+b)**2\n",
        "#Y=a**2+2a*b+b**2\n",
        "Z=a**2 - 2*(a*b) + b**2\n",
        "#Y = a^2 + 2**(a*b) + b^2\n",
        "#print(Y)\n",
        "print(Z)\n",
        "\n",
        "# Z = (a+b)(a^2-ab+b^2)\n",
        "Z = (a+b)*(a**2 - (a*b) + b**2)"
      ],
      "metadata": {
        "colab": {
          "base_uri": "https://localhost:8080/"
        },
        "id": "Lk_YbzXR3Csv",
        "outputId": "784fb4bf-5b7a-4efd-9122-88540755a6ee"
      },
      "execution_count": 35,
      "outputs": [
        {
          "output_type": "stream",
          "name": "stdout",
          "text": [
            "4\n"
          ]
        }
      ]
    },
    {
      "cell_type": "markdown",
      "source": [
        "**Bài tập 3.2:** Tìm số lượng bi:\n",
        "Có 2 hộp đựng các viên bi. Hộp thứ nhất được dán nhãn bên ngoài là A, trong hộp có 20 viên\n",
        "bi. Hộp thứ hai được dán nhãn bên ngoài là B, trong hộp có 100 viên bi. Thực hiện thao tác sau: lấy\n",
        "5 viên bi ra khỏi hộp A, sau đó lấy khỏi hộp B số bi bằng số bi còn lại trong hộp A. Hãy cho biết số\n",
        "bi trong hộp B sau khi thực hiện thao tác trên."
      ],
      "metadata": {
        "id": "qXtkRehi6Cps"
      }
    },
    {
      "cell_type": "code",
      "source": [
        "A = 20\n",
        "B = 100\n",
        "C = A -5 # 20-5=15\n",
        "D = B - C # 100 - 15 = 85\n",
        "print(D)"
      ],
      "metadata": {
        "colab": {
          "base_uri": "https://localhost:8080/"
        },
        "id": "ToBZbhyR8wtv",
        "outputId": "0317a085-1bf3-48a3-b0fd-f7cf52154848"
      },
      "execution_count": 36,
      "outputs": [
        {
          "output_type": "stream",
          "name": "stdout",
          "text": [
            "85\n"
          ]
        }
      ]
    },
    {
      "cell_type": "code",
      "source": [
        "A,B = 20,100\n",
        "print(B-(A-5))"
      ],
      "metadata": {
        "colab": {
          "base_uri": "https://localhost:8080/"
        },
        "id": "5ndwH-hS92I_",
        "outputId": "0b7d92df-90f5-4237-d49e-211cb0e8a9f5"
      },
      "execution_count": 38,
      "outputs": [
        {
          "output_type": "stream",
          "name": "stdout",
          "text": [
            "85\n"
          ]
        }
      ]
    },
    {
      "cell_type": "code",
      "source": [
        "for A in range(1,10):\n",
        "    if A % 2 == 0: print(A)\n",
        "print(\"---------------------\")\n",
        "for A in range(1,10):\n",
        "    if A % 3 ==0 : print(A)\n",
        "print(\"---------------------\")\n",
        "for A in range(1,10):\n",
        "    if (A % 2 == 0) and (A % 3 ==0) : print(A)"
      ],
      "metadata": {
        "colab": {
          "base_uri": "https://localhost:8080/"
        },
        "id": "NQ4CuKtG_4-z",
        "outputId": "937a02ef-fe5e-4989-b374-ca736d03454b"
      },
      "execution_count": 52,
      "outputs": [
        {
          "output_type": "stream",
          "name": "stdout",
          "text": [
            "2\n",
            "4\n",
            "6\n",
            "8\n",
            "---------------------\n",
            "3\n",
            "6\n",
            "9\n",
            "---------------------\n",
            "6\n"
          ]
        }
      ]
    },
    {
      "cell_type": "markdown",
      "source": [
        "3. Biểu thức quan hệ"
      ],
      "metadata": {
        "id": "fByshhtHEIRt"
      }
    },
    {
      "cell_type": "code",
      "source": [
        "A = 3\n",
        "B = 4\n",
        "C = 5\n",
        "print((A > B) and (B<C))\n",
        "print((A < B) or (B<C))\n",
        "print(A is not B)"
      ],
      "metadata": {
        "colab": {
          "base_uri": "https://localhost:8080/"
        },
        "id": "CrCrn1kTB58y",
        "outputId": "3127316d-00a8-4233-e385-bbba33b0bf85"
      },
      "execution_count": 62,
      "outputs": [
        {
          "output_type": "stream",
          "name": "stdout",
          "text": [
            "False\n",
            "True\n",
            "True\n"
          ]
        }
      ]
    },
    {
      "cell_type": "markdown",
      "source": [
        "**Toán tử gán kết hợp với các phép toán:**"
      ],
      "metadata": {
        "id": "OEZWGuaRDCTt"
      }
    },
    {
      "cell_type": "code",
      "source": [
        "A = B = 10\n",
        "A/=5 # A = A/5\n",
        "A = A * 5 # A*=5\n",
        "A = A + 5 # A+=5\n",
        "A = A - 5 # A-=5\n",
        "print(A)"
      ],
      "metadata": {
        "colab": {
          "base_uri": "https://localhost:8080/"
        },
        "id": "B5JTnAa8DEz4",
        "outputId": "6cfd0ec1-ffb4-4a4b-87ab-268e0823635a"
      },
      "execution_count": 63,
      "outputs": [
        {
          "output_type": "stream",
          "name": "stdout",
          "text": [
            "2.0\n"
          ]
        }
      ]
    }
  ]
}